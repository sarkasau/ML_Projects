{
 "cells": [
  {
   "cell_type": "code",
   "execution_count": 2,
   "metadata": {},
   "outputs": [],
   "source": [
    "import numpy as np\n",
    "import pandas as pd\n",
    "import matplotlib.pyplot as plt\n",
    "import seaborn as sns"
   ]
  },
  {
   "cell_type": "code",
   "execution_count": 216,
   "metadata": {},
   "outputs": [],
   "source": [
    "companies = pd.read_csv('companies.csv', encoding= 'unicode_escape')\n",
    "rounds2 = pd.read_csv('rounds2.csv', encoding= 'unicode_escape')\n",
    "mapping = pd.read_csv('mapping.csv', encoding= 'unicode_escape')"
   ]
  },
  {
   "cell_type": "code",
   "execution_count": 217,
   "metadata": {},
   "outputs": [
    {
     "data": {
      "text/plain": [
       "Index(['category_list', 'Automotive & Sports', 'Blanks',\n",
       "       'Cleantech / Semiconductors', 'Entertainment', 'Health',\n",
       "       'Manufacturing', 'News, Search and Messaging', 'Others',\n",
       "       'Social, Finance, Analytics, Advertising'],\n",
       "      dtype='object')"
      ]
     },
     "execution_count": 217,
     "metadata": {},
     "output_type": "execute_result"
    }
   ],
   "source": [
    "mapping.columns"
   ]
  },
  {
   "cell_type": "code",
   "execution_count": 218,
   "metadata": {
    "scrolled": true
   },
   "outputs": [
    {
     "name": "stdout",
     "output_type": "stream",
     "text": [
      "<class 'pandas.core.frame.DataFrame'>\n",
      "RangeIndex: 114949 entries, 0 to 114948\n",
      "Data columns (total 6 columns):\n",
      " #   Column                   Non-Null Count   Dtype  \n",
      "---  ------                   --------------   -----  \n",
      " 0   company_permalink        114949 non-null  object \n",
      " 1   funding_round_permalink  114949 non-null  object \n",
      " 2   funding_round_type       114949 non-null  object \n",
      " 3   funding_round_code       31140 non-null   object \n",
      " 4   funded_at                114949 non-null  object \n",
      " 5   raised_amount_usd        94959 non-null   float64\n",
      "dtypes: float64(1), object(5)\n",
      "memory usage: 5.3+ MB\n"
     ]
    }
   ],
   "source": [
    "rounds2.info()"
   ]
  },
  {
   "cell_type": "code",
   "execution_count": 219,
   "metadata": {
    "scrolled": false
   },
   "outputs": [
    {
     "data": {
      "text/html": [
       "<div>\n",
       "<style scoped>\n",
       "    .dataframe tbody tr th:only-of-type {\n",
       "        vertical-align: middle;\n",
       "    }\n",
       "\n",
       "    .dataframe tbody tr th {\n",
       "        vertical-align: top;\n",
       "    }\n",
       "\n",
       "    .dataframe thead th {\n",
       "        text-align: right;\n",
       "    }\n",
       "</style>\n",
       "<table border=\"1\" class=\"dataframe\">\n",
       "  <thead>\n",
       "    <tr style=\"text-align: right;\">\n",
       "      <th></th>\n",
       "      <th>company_permalink</th>\n",
       "      <th>funding_round_permalink</th>\n",
       "      <th>funding_round_type</th>\n",
       "      <th>funding_round_code</th>\n",
       "      <th>funded_at</th>\n",
       "      <th>raised_amount_usd</th>\n",
       "    </tr>\n",
       "  </thead>\n",
       "  <tbody>\n",
       "    <tr>\n",
       "      <th>0</th>\n",
       "      <td>/organization/-fame</td>\n",
       "      <td>/funding-round/9a01d05418af9f794eebff7ace91f638</td>\n",
       "      <td>venture</td>\n",
       "      <td>B</td>\n",
       "      <td>05-01-2015</td>\n",
       "      <td>10000000</td>\n",
       "    </tr>\n",
       "    <tr>\n",
       "      <th>1</th>\n",
       "      <td>/ORGANIZATION/-QOUNTER</td>\n",
       "      <td>/funding-round/22dacff496eb7acb2b901dec1dfe5633</td>\n",
       "      <td>venture</td>\n",
       "      <td>A</td>\n",
       "      <td>14-10-2014</td>\n",
       "      <td>nan</td>\n",
       "    </tr>\n",
       "    <tr>\n",
       "      <th>2</th>\n",
       "      <td>/organization/-qounter</td>\n",
       "      <td>/funding-round/b44fbb94153f6cdef13083530bb48030</td>\n",
       "      <td>seed</td>\n",
       "      <td>NaN</td>\n",
       "      <td>01-03-2014</td>\n",
       "      <td>700000</td>\n",
       "    </tr>\n",
       "    <tr>\n",
       "      <th>3</th>\n",
       "      <td>/ORGANIZATION/-THE-ONE-OF-THEM-INC-</td>\n",
       "      <td>/funding-round/650b8f704416801069bb178a1418776b</td>\n",
       "      <td>venture</td>\n",
       "      <td>B</td>\n",
       "      <td>30-01-2014</td>\n",
       "      <td>3406878</td>\n",
       "    </tr>\n",
       "    <tr>\n",
       "      <th>4</th>\n",
       "      <td>/organization/0-6-com</td>\n",
       "      <td>/funding-round/5727accaeaa57461bd22a9bdd945382d</td>\n",
       "      <td>venture</td>\n",
       "      <td>A</td>\n",
       "      <td>19-03-2008</td>\n",
       "      <td>2000000</td>\n",
       "    </tr>\n",
       "  </tbody>\n",
       "</table>\n",
       "</div>"
      ],
      "text/plain": [
       "                     company_permalink  \\\n",
       "0                  /organization/-fame   \n",
       "1               /ORGANIZATION/-QOUNTER   \n",
       "2               /organization/-qounter   \n",
       "3  /ORGANIZATION/-THE-ONE-OF-THEM-INC-   \n",
       "4                /organization/0-6-com   \n",
       "\n",
       "                           funding_round_permalink funding_round_type  \\\n",
       "0  /funding-round/9a01d05418af9f794eebff7ace91f638            venture   \n",
       "1  /funding-round/22dacff496eb7acb2b901dec1dfe5633            venture   \n",
       "2  /funding-round/b44fbb94153f6cdef13083530bb48030               seed   \n",
       "3  /funding-round/650b8f704416801069bb178a1418776b            venture   \n",
       "4  /funding-round/5727accaeaa57461bd22a9bdd945382d            venture   \n",
       "\n",
       "  funding_round_code   funded_at  raised_amount_usd  \n",
       "0                  B  05-01-2015           10000000  \n",
       "1                  A  14-10-2014                nan  \n",
       "2                NaN  01-03-2014             700000  \n",
       "3                  B  30-01-2014            3406878  \n",
       "4                  A  19-03-2008            2000000  "
      ]
     },
     "execution_count": 219,
     "metadata": {},
     "output_type": "execute_result"
    }
   ],
   "source": [
    "rounds2.head()"
   ]
  },
  {
   "cell_type": "code",
   "execution_count": 220,
   "metadata": {
    "scrolled": true
   },
   "outputs": [
    {
     "data": {
      "text/html": [
       "<div>\n",
       "<style scoped>\n",
       "    .dataframe tbody tr th:only-of-type {\n",
       "        vertical-align: middle;\n",
       "    }\n",
       "\n",
       "    .dataframe tbody tr th {\n",
       "        vertical-align: top;\n",
       "    }\n",
       "\n",
       "    .dataframe thead th {\n",
       "        text-align: right;\n",
       "    }\n",
       "</style>\n",
       "<table border=\"1\" class=\"dataframe\">\n",
       "  <thead>\n",
       "    <tr style=\"text-align: right;\">\n",
       "      <th></th>\n",
       "      <th>permalink</th>\n",
       "      <th>name</th>\n",
       "      <th>homepage_url</th>\n",
       "      <th>category_list</th>\n",
       "      <th>status</th>\n",
       "      <th>country_code</th>\n",
       "      <th>state_code</th>\n",
       "      <th>region</th>\n",
       "      <th>city</th>\n",
       "      <th>founded_at</th>\n",
       "    </tr>\n",
       "  </thead>\n",
       "  <tbody>\n",
       "    <tr>\n",
       "      <th>0</th>\n",
       "      <td>/Organization/-Fame</td>\n",
       "      <td>#fame</td>\n",
       "      <td>http://livfame.com</td>\n",
       "      <td>Media</td>\n",
       "      <td>operating</td>\n",
       "      <td>IND</td>\n",
       "      <td>16</td>\n",
       "      <td>Mumbai</td>\n",
       "      <td>Mumbai</td>\n",
       "      <td>NaN</td>\n",
       "    </tr>\n",
       "    <tr>\n",
       "      <th>1</th>\n",
       "      <td>/Organization/-Qounter</td>\n",
       "      <td>:Qounter</td>\n",
       "      <td>http://www.qounter.com</td>\n",
       "      <td>Application Platforms|Real Time|Social Network...</td>\n",
       "      <td>operating</td>\n",
       "      <td>USA</td>\n",
       "      <td>DE</td>\n",
       "      <td>DE - Other</td>\n",
       "      <td>Delaware City</td>\n",
       "      <td>04-09-2014</td>\n",
       "    </tr>\n",
       "    <tr>\n",
       "      <th>2</th>\n",
       "      <td>/Organization/-The-One-Of-Them-Inc-</td>\n",
       "      <td>(THE) ONE of THEM,Inc.</td>\n",
       "      <td>http://oneofthem.jp</td>\n",
       "      <td>Apps|Games|Mobile</td>\n",
       "      <td>operating</td>\n",
       "      <td>NaN</td>\n",
       "      <td>NaN</td>\n",
       "      <td>NaN</td>\n",
       "      <td>NaN</td>\n",
       "      <td>NaN</td>\n",
       "    </tr>\n",
       "    <tr>\n",
       "      <th>3</th>\n",
       "      <td>/Organization/0-6-Com</td>\n",
       "      <td>0-6.com</td>\n",
       "      <td>http://www.0-6.com</td>\n",
       "      <td>Curated Web</td>\n",
       "      <td>operating</td>\n",
       "      <td>CHN</td>\n",
       "      <td>22</td>\n",
       "      <td>Beijing</td>\n",
       "      <td>Beijing</td>\n",
       "      <td>01-01-2007</td>\n",
       "    </tr>\n",
       "    <tr>\n",
       "      <th>4</th>\n",
       "      <td>/Organization/004-Technologies</td>\n",
       "      <td>004 Technologies</td>\n",
       "      <td>http://004gmbh.de/en/004-interact</td>\n",
       "      <td>Software</td>\n",
       "      <td>operating</td>\n",
       "      <td>USA</td>\n",
       "      <td>IL</td>\n",
       "      <td>Springfield, Illinois</td>\n",
       "      <td>Champaign</td>\n",
       "      <td>01-01-2010</td>\n",
       "    </tr>\n",
       "  </tbody>\n",
       "</table>\n",
       "</div>"
      ],
      "text/plain": [
       "                             permalink                    name  \\\n",
       "0                  /Organization/-Fame                   #fame   \n",
       "1               /Organization/-Qounter                :Qounter   \n",
       "2  /Organization/-The-One-Of-Them-Inc-  (THE) ONE of THEM,Inc.   \n",
       "3                /Organization/0-6-Com                 0-6.com   \n",
       "4       /Organization/004-Technologies        004 Technologies   \n",
       "\n",
       "                        homepage_url  \\\n",
       "0                 http://livfame.com   \n",
       "1             http://www.qounter.com   \n",
       "2                http://oneofthem.jp   \n",
       "3                 http://www.0-6.com   \n",
       "4  http://004gmbh.de/en/004-interact   \n",
       "\n",
       "                                       category_list     status country_code  \\\n",
       "0                                              Media  operating          IND   \n",
       "1  Application Platforms|Real Time|Social Network...  operating          USA   \n",
       "2                                  Apps|Games|Mobile  operating          NaN   \n",
       "3                                        Curated Web  operating          CHN   \n",
       "4                                           Software  operating          USA   \n",
       "\n",
       "  state_code                 region           city  founded_at  \n",
       "0         16                 Mumbai         Mumbai         NaN  \n",
       "1         DE             DE - Other  Delaware City  04-09-2014  \n",
       "2        NaN                    NaN            NaN         NaN  \n",
       "3         22                Beijing        Beijing  01-01-2007  \n",
       "4         IL  Springfield, Illinois      Champaign  01-01-2010  "
      ]
     },
     "execution_count": 220,
     "metadata": {},
     "output_type": "execute_result"
    }
   ],
   "source": [
    "companies.head()"
   ]
  },
  {
   "cell_type": "code",
   "execution_count": 221,
   "metadata": {},
   "outputs": [
    {
     "data": {
      "text/plain": [
       "Index(['permalink', 'name', 'homepage_url', 'category_list', 'status',\n",
       "       'country_code', 'state_code', 'region', 'city', 'founded_at'],\n",
       "      dtype='object')"
      ]
     },
     "execution_count": 221,
     "metadata": {},
     "output_type": "execute_result"
    }
   ],
   "source": [
    "companies.columns"
   ]
  },
  {
   "cell_type": "markdown",
   "metadata": {},
   "source": [
    "##### Converting permalink to lowercase, would be helpful for merging "
   ]
  },
  {
   "cell_type": "code",
   "execution_count": 222,
   "metadata": {},
   "outputs": [],
   "source": [
    "companies['permalink'] = companies['permalink'].str.lower()\n",
    "rounds2['company_permalink'] = rounds2['company_permalink'].str.lower()"
   ]
  },
  {
   "cell_type": "markdown",
   "metadata": {},
   "source": [
    "#### How many unique companies are present in rounds2?"
   ]
  },
  {
   "cell_type": "code",
   "execution_count": 223,
   "metadata": {
    "scrolled": true
   },
   "outputs": [
    {
     "data": {
      "text/plain": [
       "66370"
      ]
     },
     "execution_count": 223,
     "metadata": {},
     "output_type": "execute_result"
    }
   ],
   "source": [
    "len(pd.unique(rounds2.company_permalink))"
   ]
  },
  {
   "cell_type": "markdown",
   "metadata": {},
   "source": [
    "#### How many unique companies are present in the companies file?"
   ]
  },
  {
   "cell_type": "code",
   "execution_count": 224,
   "metadata": {},
   "outputs": [
    {
     "data": {
      "text/plain": [
       "66368"
      ]
     },
     "execution_count": 224,
     "metadata": {},
     "output_type": "execute_result"
    }
   ],
   "source": [
    "len(pd.unique(companies.permalink))"
   ]
  },
  {
   "cell_type": "code",
   "execution_count": 225,
   "metadata": {
    "scrolled": true
   },
   "outputs": [
    {
     "name": "stdout",
     "output_type": "stream",
     "text": [
      "<class 'pandas.core.frame.DataFrame'>\n",
      "RangeIndex: 114949 entries, 0 to 114948\n",
      "Data columns (total 6 columns):\n",
      " #   Column                   Non-Null Count   Dtype  \n",
      "---  ------                   --------------   -----  \n",
      " 0   company_permalink        114949 non-null  object \n",
      " 1   funding_round_permalink  114949 non-null  object \n",
      " 2   funding_round_type       114949 non-null  object \n",
      " 3   funding_round_code       31140 non-null   object \n",
      " 4   funded_at                114949 non-null  object \n",
      " 5   raised_amount_usd        94959 non-null   float64\n",
      "dtypes: float64(1), object(5)\n",
      "memory usage: 5.3+ MB\n"
     ]
    }
   ],
   "source": [
    "rounds2.info()"
   ]
  },
  {
   "cell_type": "markdown",
   "metadata": {},
   "source": [
    "### There has been few weird characters identified in the permalink & company_permalink columns in both dataframes"
   ]
  },
  {
   "cell_type": "code",
   "execution_count": 226,
   "metadata": {},
   "outputs": [
    {
     "data": {
      "text/plain": [
       "'abcdefghijklmnopqrstuvwxyzABCDEFGHIJKLMNOPQRSTUVWXYZ!\"#$%&\\'()*+,-./:;<=>?@[\\\\]^_`{|}~'"
      ]
     },
     "execution_count": 226,
     "metadata": {},
     "output_type": "execute_result"
    }
   ],
   "source": [
    "import string\n",
    "import re\n",
    "alphabet = string.ascii_letters+string.punctuation\n",
    "alphabet"
   ]
  },
  {
   "cell_type": "code",
   "execution_count": 227,
   "metadata": {},
   "outputs": [
    {
     "data": {
      "text/plain": [
       "re.compile(r'[@_!#$%^&*()<>?|}{~:]', re.UNICODE)"
      ]
     },
     "execution_count": 227,
     "metadata": {},
     "output_type": "execute_result"
    }
   ],
   "source": [
    "regex = re.compile('[@_!#$%^&*()<>?|}{~:]') \n",
    "regex"
   ]
  },
  {
   "cell_type": "code",
   "execution_count": 228,
   "metadata": {
    "scrolled": false
   },
   "outputs": [
    {
     "data": {
      "text/html": [
       "<div>\n",
       "<style scoped>\n",
       "    .dataframe tbody tr th:only-of-type {\n",
       "        vertical-align: middle;\n",
       "    }\n",
       "\n",
       "    .dataframe tbody tr th {\n",
       "        vertical-align: top;\n",
       "    }\n",
       "\n",
       "    .dataframe thead th {\n",
       "        text-align: right;\n",
       "    }\n",
       "</style>\n",
       "<table border=\"1\" class=\"dataframe\">\n",
       "  <thead>\n",
       "    <tr style=\"text-align: right;\">\n",
       "      <th></th>\n",
       "      <th>permalink</th>\n",
       "      <th>name</th>\n",
       "      <th>homepage_url</th>\n",
       "      <th>category_list</th>\n",
       "      <th>status</th>\n",
       "      <th>country_code</th>\n",
       "      <th>state_code</th>\n",
       "      <th>region</th>\n",
       "      <th>city</th>\n",
       "      <th>founded_at</th>\n",
       "    </tr>\n",
       "  </thead>\n",
       "  <tbody>\n",
       "    <tr>\n",
       "      <th>0</th>\n",
       "      <td>/organization/-fame</td>\n",
       "      <td>#fame</td>\n",
       "      <td>http://livfame.com</td>\n",
       "      <td>Media</td>\n",
       "      <td>operating</td>\n",
       "      <td>IND</td>\n",
       "      <td>16</td>\n",
       "      <td>Mumbai</td>\n",
       "      <td>Mumbai</td>\n",
       "      <td>NaN</td>\n",
       "    </tr>\n",
       "    <tr>\n",
       "      <th>1</th>\n",
       "      <td>/organization/-qounter</td>\n",
       "      <td>:Qounter</td>\n",
       "      <td>http://www.qounter.com</td>\n",
       "      <td>Application Platforms|Real Time|Social Network...</td>\n",
       "      <td>operating</td>\n",
       "      <td>USA</td>\n",
       "      <td>DE</td>\n",
       "      <td>DE - Other</td>\n",
       "      <td>Delaware City</td>\n",
       "      <td>04-09-2014</td>\n",
       "    </tr>\n",
       "    <tr>\n",
       "      <th>2</th>\n",
       "      <td>/organization/-the-one-of-them-inc-</td>\n",
       "      <td>(THE) ONE of THEM,Inc.</td>\n",
       "      <td>http://oneofthem.jp</td>\n",
       "      <td>Apps|Games|Mobile</td>\n",
       "      <td>operating</td>\n",
       "      <td>NaN</td>\n",
       "      <td>NaN</td>\n",
       "      <td>NaN</td>\n",
       "      <td>NaN</td>\n",
       "      <td>NaN</td>\n",
       "    </tr>\n",
       "    <tr>\n",
       "      <th>3</th>\n",
       "      <td>/organization/0-6-com</td>\n",
       "      <td>0-6.com</td>\n",
       "      <td>http://www.0-6.com</td>\n",
       "      <td>Curated Web</td>\n",
       "      <td>operating</td>\n",
       "      <td>CHN</td>\n",
       "      <td>22</td>\n",
       "      <td>Beijing</td>\n",
       "      <td>Beijing</td>\n",
       "      <td>01-01-2007</td>\n",
       "    </tr>\n",
       "    <tr>\n",
       "      <th>4</th>\n",
       "      <td>/organization/004-technologies</td>\n",
       "      <td>004 Technologies</td>\n",
       "      <td>http://004gmbh.de/en/004-interact</td>\n",
       "      <td>Software</td>\n",
       "      <td>operating</td>\n",
       "      <td>USA</td>\n",
       "      <td>IL</td>\n",
       "      <td>Springfield, Illinois</td>\n",
       "      <td>Champaign</td>\n",
       "      <td>01-01-2010</td>\n",
       "    </tr>\n",
       "    <tr>\n",
       "      <th>...</th>\n",
       "      <td>...</td>\n",
       "      <td>...</td>\n",
       "      <td>...</td>\n",
       "      <td>...</td>\n",
       "      <td>...</td>\n",
       "      <td>...</td>\n",
       "      <td>...</td>\n",
       "      <td>...</td>\n",
       "      <td>...</td>\n",
       "      <td>...</td>\n",
       "    </tr>\n",
       "    <tr>\n",
       "      <th>66363</th>\n",
       "      <td>/organization/zznode-science-and-technology-co...</td>\n",
       "      <td>ZZNode Science and Technology</td>\n",
       "      <td>http://www.zznode.com</td>\n",
       "      <td>Enterprise Software</td>\n",
       "      <td>operating</td>\n",
       "      <td>CHN</td>\n",
       "      <td>22</td>\n",
       "      <td>Beijing</td>\n",
       "      <td>Beijing</td>\n",
       "      <td>NaN</td>\n",
       "    </tr>\n",
       "    <tr>\n",
       "      <th>66364</th>\n",
       "      <td>/organization/zzzzapp-com</td>\n",
       "      <td>Zzzzapp Wireless ltd.</td>\n",
       "      <td>http://www.zzzzapp.com</td>\n",
       "      <td>Advertising|Mobile|Web Development|Wireless</td>\n",
       "      <td>operating</td>\n",
       "      <td>HRV</td>\n",
       "      <td>15</td>\n",
       "      <td>Split</td>\n",
       "      <td>Split</td>\n",
       "      <td>13-05-2012</td>\n",
       "    </tr>\n",
       "    <tr>\n",
       "      <th>66365</th>\n",
       "      <td>/organization/ãeron</td>\n",
       "      <td>ÃERON</td>\n",
       "      <td>http://www.aeron.hu/</td>\n",
       "      <td>NaN</td>\n",
       "      <td>operating</td>\n",
       "      <td>NaN</td>\n",
       "      <td>NaN</td>\n",
       "      <td>NaN</td>\n",
       "      <td>NaN</td>\n",
       "      <td>01-01-2011</td>\n",
       "    </tr>\n",
       "    <tr>\n",
       "      <th>66366</th>\n",
       "      <td>/organization/ãasys-2</td>\n",
       "      <td>Ãasys</td>\n",
       "      <td>http://www.oasys.io/</td>\n",
       "      <td>Consumer Electronics|Internet of Things|Teleco...</td>\n",
       "      <td>operating</td>\n",
       "      <td>USA</td>\n",
       "      <td>CA</td>\n",
       "      <td>SF Bay Area</td>\n",
       "      <td>San Francisco</td>\n",
       "      <td>01-01-2014</td>\n",
       "    </tr>\n",
       "    <tr>\n",
       "      <th>66367</th>\n",
       "      <td>/organization/ä°novatiff-reklam-ve-tanä±tä±m-h...</td>\n",
       "      <td>Ä°novatiff Reklam ve TanÄ±tÄ±m Hizmetleri Tic</td>\n",
       "      <td>http://inovatiff.com</td>\n",
       "      <td>Consumer Goods|E-Commerce|Internet</td>\n",
       "      <td>operating</td>\n",
       "      <td>NaN</td>\n",
       "      <td>NaN</td>\n",
       "      <td>NaN</td>\n",
       "      <td>NaN</td>\n",
       "      <td>NaN</td>\n",
       "    </tr>\n",
       "  </tbody>\n",
       "</table>\n",
       "<p>66367 rows × 10 columns</p>\n",
       "</div>"
      ],
      "text/plain": [
       "                                               permalink  \\\n",
       "0                                    /organization/-fame   \n",
       "1                                 /organization/-qounter   \n",
       "2                    /organization/-the-one-of-them-inc-   \n",
       "3                                  /organization/0-6-com   \n",
       "4                         /organization/004-technologies   \n",
       "...                                                  ...   \n",
       "66363  /organization/zznode-science-and-technology-co...   \n",
       "66364                          /organization/zzzzapp-com   \n",
       "66365                               /organization/ãeron   \n",
       "66366                             /organization/ãasys-2   \n",
       "66367  /organization/ä°novatiff-reklam-ve-tanä±tä±m-h...   \n",
       "\n",
       "                                                name  \\\n",
       "0                                              #fame   \n",
       "1                                           :Qounter   \n",
       "2                             (THE) ONE of THEM,Inc.   \n",
       "3                                            0-6.com   \n",
       "4                                   004 Technologies   \n",
       "...                                              ...   \n",
       "66363                  ZZNode Science and Technology   \n",
       "66364                          Zzzzapp Wireless ltd.   \n",
       "66365                                         ÃERON   \n",
       "66366                                         Ãasys   \n",
       "66367  Ä°novatiff Reklam ve TanÄ±tÄ±m Hizmetleri Tic   \n",
       "\n",
       "                            homepage_url  \\\n",
       "0                     http://livfame.com   \n",
       "1                 http://www.qounter.com   \n",
       "2                    http://oneofthem.jp   \n",
       "3                     http://www.0-6.com   \n",
       "4      http://004gmbh.de/en/004-interact   \n",
       "...                                  ...   \n",
       "66363              http://www.zznode.com   \n",
       "66364             http://www.zzzzapp.com   \n",
       "66365               http://www.aeron.hu/   \n",
       "66366               http://www.oasys.io/   \n",
       "66367               http://inovatiff.com   \n",
       "\n",
       "                                           category_list     status  \\\n",
       "0                                                  Media  operating   \n",
       "1      Application Platforms|Real Time|Social Network...  operating   \n",
       "2                                      Apps|Games|Mobile  operating   \n",
       "3                                            Curated Web  operating   \n",
       "4                                               Software  operating   \n",
       "...                                                  ...        ...   \n",
       "66363                                Enterprise Software  operating   \n",
       "66364        Advertising|Mobile|Web Development|Wireless  operating   \n",
       "66365                                                NaN  operating   \n",
       "66366  Consumer Electronics|Internet of Things|Teleco...  operating   \n",
       "66367                 Consumer Goods|E-Commerce|Internet  operating   \n",
       "\n",
       "      country_code state_code                 region           city  \\\n",
       "0              IND         16                 Mumbai         Mumbai   \n",
       "1              USA         DE             DE - Other  Delaware City   \n",
       "2              NaN        NaN                    NaN            NaN   \n",
       "3              CHN         22                Beijing        Beijing   \n",
       "4              USA         IL  Springfield, Illinois      Champaign   \n",
       "...            ...        ...                    ...            ...   \n",
       "66363          CHN         22                Beijing        Beijing   \n",
       "66364          HRV         15                  Split          Split   \n",
       "66365          NaN        NaN                    NaN            NaN   \n",
       "66366          USA         CA            SF Bay Area  San Francisco   \n",
       "66367          NaN        NaN                    NaN            NaN   \n",
       "\n",
       "       founded_at  \n",
       "0             NaN  \n",
       "1      04-09-2014  \n",
       "2             NaN  \n",
       "3      01-01-2007  \n",
       "4      01-01-2010  \n",
       "...           ...  \n",
       "66363         NaN  \n",
       "66364  13-05-2012  \n",
       "66365  01-01-2011  \n",
       "66366  01-01-2014  \n",
       "66367         NaN  \n",
       "\n",
       "[66367 rows x 10 columns]"
      ]
     },
     "execution_count": 228,
     "metadata": {},
     "output_type": "execute_result"
    }
   ],
   "source": [
    "companies[~companies.permalink.str.contains(regex)]"
   ]
  },
  {
   "cell_type": "markdown",
   "metadata": {},
   "source": [
    "### Not able to find the right regular expression to retrive all the rows with weird/special characters in company_permalink\n",
    "### Removing non ascii characters from the in both the permalink columns\n",
    "### Found an article = https://stackoverflow.com/questions/45871731/removing-special-characters-in-a-pandas-dataframe\n"
   ]
  },
  {
   "cell_type": "code",
   "execution_count": 229,
   "metadata": {},
   "outputs": [],
   "source": [
    "rounds2['company_permalink'] = rounds2.company_permalink.str.encode('utf-8').str.decode('ascii', 'ignore')\n",
    "companies['permalink'] = companies.permalink.str.encode('utf-8').str.decode('ascii', 'ignore')"
   ]
  },
  {
   "cell_type": "code",
   "execution_count": 230,
   "metadata": {},
   "outputs": [
    {
     "data": {
      "text/html": [
       "<div>\n",
       "<style scoped>\n",
       "    .dataframe tbody tr th:only-of-type {\n",
       "        vertical-align: middle;\n",
       "    }\n",
       "\n",
       "    .dataframe tbody tr th {\n",
       "        vertical-align: top;\n",
       "    }\n",
       "\n",
       "    .dataframe thead th {\n",
       "        text-align: right;\n",
       "    }\n",
       "</style>\n",
       "<table border=\"1\" class=\"dataframe\">\n",
       "  <thead>\n",
       "    <tr style=\"text-align: right;\">\n",
       "      <th></th>\n",
       "      <th>permalink</th>\n",
       "      <th>name</th>\n",
       "      <th>homepage_url</th>\n",
       "      <th>category_list</th>\n",
       "      <th>status</th>\n",
       "      <th>country_code</th>\n",
       "      <th>state_code</th>\n",
       "      <th>region</th>\n",
       "      <th>city</th>\n",
       "      <th>founded_at</th>\n",
       "    </tr>\n",
       "  </thead>\n",
       "  <tbody>\n",
       "    <tr>\n",
       "      <th>0</th>\n",
       "      <td>/organization/-fame</td>\n",
       "      <td>#fame</td>\n",
       "      <td>http://livfame.com</td>\n",
       "      <td>Media</td>\n",
       "      <td>operating</td>\n",
       "      <td>IND</td>\n",
       "      <td>16</td>\n",
       "      <td>Mumbai</td>\n",
       "      <td>Mumbai</td>\n",
       "      <td>NaN</td>\n",
       "    </tr>\n",
       "    <tr>\n",
       "      <th>1</th>\n",
       "      <td>/organization/-qounter</td>\n",
       "      <td>:Qounter</td>\n",
       "      <td>http://www.qounter.com</td>\n",
       "      <td>Application Platforms|Real Time|Social Network...</td>\n",
       "      <td>operating</td>\n",
       "      <td>USA</td>\n",
       "      <td>DE</td>\n",
       "      <td>DE - Other</td>\n",
       "      <td>Delaware City</td>\n",
       "      <td>04-09-2014</td>\n",
       "    </tr>\n",
       "    <tr>\n",
       "      <th>2</th>\n",
       "      <td>/organization/-the-one-of-them-inc-</td>\n",
       "      <td>(THE) ONE of THEM,Inc.</td>\n",
       "      <td>http://oneofthem.jp</td>\n",
       "      <td>Apps|Games|Mobile</td>\n",
       "      <td>operating</td>\n",
       "      <td>NaN</td>\n",
       "      <td>NaN</td>\n",
       "      <td>NaN</td>\n",
       "      <td>NaN</td>\n",
       "      <td>NaN</td>\n",
       "    </tr>\n",
       "    <tr>\n",
       "      <th>3</th>\n",
       "      <td>/organization/0-6-com</td>\n",
       "      <td>0-6.com</td>\n",
       "      <td>http://www.0-6.com</td>\n",
       "      <td>Curated Web</td>\n",
       "      <td>operating</td>\n",
       "      <td>CHN</td>\n",
       "      <td>22</td>\n",
       "      <td>Beijing</td>\n",
       "      <td>Beijing</td>\n",
       "      <td>01-01-2007</td>\n",
       "    </tr>\n",
       "    <tr>\n",
       "      <th>4</th>\n",
       "      <td>/organization/004-technologies</td>\n",
       "      <td>004 Technologies</td>\n",
       "      <td>http://004gmbh.de/en/004-interact</td>\n",
       "      <td>Software</td>\n",
       "      <td>operating</td>\n",
       "      <td>USA</td>\n",
       "      <td>IL</td>\n",
       "      <td>Springfield, Illinois</td>\n",
       "      <td>Champaign</td>\n",
       "      <td>01-01-2010</td>\n",
       "    </tr>\n",
       "  </tbody>\n",
       "</table>\n",
       "</div>"
      ],
      "text/plain": [
       "                             permalink                    name  \\\n",
       "0                  /organization/-fame                   #fame   \n",
       "1               /organization/-qounter                :Qounter   \n",
       "2  /organization/-the-one-of-them-inc-  (THE) ONE of THEM,Inc.   \n",
       "3                /organization/0-6-com                 0-6.com   \n",
       "4       /organization/004-technologies        004 Technologies   \n",
       "\n",
       "                        homepage_url  \\\n",
       "0                 http://livfame.com   \n",
       "1             http://www.qounter.com   \n",
       "2                http://oneofthem.jp   \n",
       "3                 http://www.0-6.com   \n",
       "4  http://004gmbh.de/en/004-interact   \n",
       "\n",
       "                                       category_list     status country_code  \\\n",
       "0                                              Media  operating          IND   \n",
       "1  Application Platforms|Real Time|Social Network...  operating          USA   \n",
       "2                                  Apps|Games|Mobile  operating          NaN   \n",
       "3                                        Curated Web  operating          CHN   \n",
       "4                                           Software  operating          USA   \n",
       "\n",
       "  state_code                 region           city  founded_at  \n",
       "0         16                 Mumbai         Mumbai         NaN  \n",
       "1         DE             DE - Other  Delaware City  04-09-2014  \n",
       "2        NaN                    NaN            NaN         NaN  \n",
       "3         22                Beijing        Beijing  01-01-2007  \n",
       "4         IL  Springfield, Illinois      Champaign  01-01-2010  "
      ]
     },
     "execution_count": 230,
     "metadata": {},
     "output_type": "execute_result"
    }
   ],
   "source": [
    "companies.head()"
   ]
  },
  {
   "cell_type": "code",
   "execution_count": 231,
   "metadata": {
    "scrolled": true
   },
   "outputs": [
    {
     "data": {
      "text/html": [
       "<div>\n",
       "<style scoped>\n",
       "    .dataframe tbody tr th:only-of-type {\n",
       "        vertical-align: middle;\n",
       "    }\n",
       "\n",
       "    .dataframe tbody tr th {\n",
       "        vertical-align: top;\n",
       "    }\n",
       "\n",
       "    .dataframe thead th {\n",
       "        text-align: right;\n",
       "    }\n",
       "</style>\n",
       "<table border=\"1\" class=\"dataframe\">\n",
       "  <thead>\n",
       "    <tr style=\"text-align: right;\">\n",
       "      <th></th>\n",
       "      <th>company_permalink</th>\n",
       "      <th>funding_round_permalink</th>\n",
       "      <th>funding_round_type</th>\n",
       "      <th>funding_round_code</th>\n",
       "      <th>funded_at</th>\n",
       "      <th>raised_amount_usd</th>\n",
       "    </tr>\n",
       "  </thead>\n",
       "  <tbody>\n",
       "    <tr>\n",
       "      <th>0</th>\n",
       "      <td>/organization/-fame</td>\n",
       "      <td>/funding-round/9a01d05418af9f794eebff7ace91f638</td>\n",
       "      <td>venture</td>\n",
       "      <td>B</td>\n",
       "      <td>05-01-2015</td>\n",
       "      <td>10000000</td>\n",
       "    </tr>\n",
       "    <tr>\n",
       "      <th>1</th>\n",
       "      <td>/organization/-qounter</td>\n",
       "      <td>/funding-round/22dacff496eb7acb2b901dec1dfe5633</td>\n",
       "      <td>venture</td>\n",
       "      <td>A</td>\n",
       "      <td>14-10-2014</td>\n",
       "      <td>nan</td>\n",
       "    </tr>\n",
       "    <tr>\n",
       "      <th>2</th>\n",
       "      <td>/organization/-qounter</td>\n",
       "      <td>/funding-round/b44fbb94153f6cdef13083530bb48030</td>\n",
       "      <td>seed</td>\n",
       "      <td>NaN</td>\n",
       "      <td>01-03-2014</td>\n",
       "      <td>700000</td>\n",
       "    </tr>\n",
       "    <tr>\n",
       "      <th>3</th>\n",
       "      <td>/organization/-the-one-of-them-inc-</td>\n",
       "      <td>/funding-round/650b8f704416801069bb178a1418776b</td>\n",
       "      <td>venture</td>\n",
       "      <td>B</td>\n",
       "      <td>30-01-2014</td>\n",
       "      <td>3406878</td>\n",
       "    </tr>\n",
       "    <tr>\n",
       "      <th>4</th>\n",
       "      <td>/organization/0-6-com</td>\n",
       "      <td>/funding-round/5727accaeaa57461bd22a9bdd945382d</td>\n",
       "      <td>venture</td>\n",
       "      <td>A</td>\n",
       "      <td>19-03-2008</td>\n",
       "      <td>2000000</td>\n",
       "    </tr>\n",
       "  </tbody>\n",
       "</table>\n",
       "</div>"
      ],
      "text/plain": [
       "                     company_permalink  \\\n",
       "0                  /organization/-fame   \n",
       "1               /organization/-qounter   \n",
       "2               /organization/-qounter   \n",
       "3  /organization/-the-one-of-them-inc-   \n",
       "4                /organization/0-6-com   \n",
       "\n",
       "                           funding_round_permalink funding_round_type  \\\n",
       "0  /funding-round/9a01d05418af9f794eebff7ace91f638            venture   \n",
       "1  /funding-round/22dacff496eb7acb2b901dec1dfe5633            venture   \n",
       "2  /funding-round/b44fbb94153f6cdef13083530bb48030               seed   \n",
       "3  /funding-round/650b8f704416801069bb178a1418776b            venture   \n",
       "4  /funding-round/5727accaeaa57461bd22a9bdd945382d            venture   \n",
       "\n",
       "  funding_round_code   funded_at  raised_amount_usd  \n",
       "0                  B  05-01-2015           10000000  \n",
       "1                  A  14-10-2014                nan  \n",
       "2                NaN  01-03-2014             700000  \n",
       "3                  B  30-01-2014            3406878  \n",
       "4                  A  19-03-2008            2000000  "
      ]
     },
     "execution_count": 231,
     "metadata": {},
     "output_type": "execute_result"
    }
   ],
   "source": [
    "rounds2.head()"
   ]
  },
  {
   "cell_type": "markdown",
   "metadata": {},
   "source": [
    "#### To convert numbers into Thousand, Million, Billion & Trillion"
   ]
  },
  {
   "cell_type": "code",
   "execution_count": 232,
   "metadata": {},
   "outputs": [],
   "source": [
    "import math\n",
    "\n",
    "millnames = ['',' Thousand',' Million',' Billion',' Trillion']\n",
    "\n",
    "def millify(n):\n",
    "    n = float(n)\n",
    "    millidx = max(0,min(len(millnames)-1,\n",
    "                        int(math.floor(0 if n == 0 else math.log10(abs(n))/3))))\n",
    "\n",
    "    return '{:.0f}{}'.format(n / 10**(3 * millidx), millnames[millidx])"
   ]
  },
  {
   "cell_type": "markdown",
   "metadata": {},
   "source": [
    "### By The above observations we can conclude that Venture Funding would be best suited for Spark Funds as there budget range is 5 million to 15 million USD"
   ]
  },
  {
   "cell_type": "markdown",
   "metadata": {},
   "source": [
    "#### Cleaning Rounds2 Dataframe"
   ]
  },
  {
   "cell_type": "code",
   "execution_count": 233,
   "metadata": {
    "scrolled": true
   },
   "outputs": [
    {
     "data": {
      "text/plain": [
       "company_permalink              0\n",
       "funding_round_permalink        0\n",
       "funding_round_type             0\n",
       "funding_round_code         83809\n",
       "funded_at                      0\n",
       "raised_amount_usd          19990\n",
       "dtype: int64"
      ]
     },
     "execution_count": 233,
     "metadata": {},
     "output_type": "execute_result"
    }
   ],
   "source": [
    "rounds2.isnull().sum()"
   ]
  },
  {
   "cell_type": "markdown",
   "metadata": {},
   "source": [
    "#### Dropping column funding_round_code as it is unnescessary "
   ]
  },
  {
   "cell_type": "code",
   "execution_count": 234,
   "metadata": {},
   "outputs": [],
   "source": [
    "rounds2 = rounds2.drop(['funding_round_code'], axis=1) "
   ]
  },
  {
   "cell_type": "code",
   "execution_count": 235,
   "metadata": {
    "scrolled": true
   },
   "outputs": [
    {
     "data": {
      "text/plain": [
       "company_permalink              0\n",
       "funding_round_permalink        0\n",
       "funding_round_type             0\n",
       "funded_at                      0\n",
       "raised_amount_usd          19990\n",
       "dtype: int64"
      ]
     },
     "execution_count": 235,
     "metadata": {},
     "output_type": "execute_result"
    }
   ],
   "source": [
    "rounds2.isnull().sum()"
   ]
  },
  {
   "cell_type": "markdown",
   "metadata": {},
   "source": [
    "#### Need to fix null values in raised_amount_usd column\n"
   ]
  },
  {
   "cell_type": "code",
   "execution_count": 236,
   "metadata": {},
   "outputs": [],
   "source": [
    "# Removing scientific values from the display\n",
    "\n",
    "pd.options.display.float_format = '{:.0f}'.format"
   ]
  },
  {
   "cell_type": "code",
   "execution_count": 237,
   "metadata": {
    "scrolled": false
   },
   "outputs": [
    {
     "data": {
      "text/plain": [
       "count         94959\n",
       "mean       10426869\n",
       "std       114821248\n",
       "min               0\n",
       "25%          322500\n",
       "50%         1680511\n",
       "75%         7000000\n",
       "max     21271935000\n",
       "Name: raised_amount_usd, dtype: float64"
      ]
     },
     "execution_count": 237,
     "metadata": {},
     "output_type": "execute_result"
    }
   ],
   "source": [
    "rounds2['raised_amount_usd'].describe()"
   ]
  },
  {
   "cell_type": "code",
   "execution_count": 238,
   "metadata": {
    "scrolled": true
   },
   "outputs": [
    {
     "name": "stdout",
     "output_type": "stream",
     "text": [
      "Mean: 10 Million\n",
      "Median: 2 Million\n"
     ]
    }
   ],
   "source": [
    "print('Mean: ' + str(millify(rounds2['raised_amount_usd'].mean())))\n",
    "print('Median: ' + str(millify(rounds2['raised_amount_usd'].median())))"
   ]
  },
  {
   "cell_type": "markdown",
   "metadata": {},
   "source": [
    "### As the difference in Mean and Median is too huge, I believe dropping the records would be better option where raised_amount_usd is NULL"
   ]
  },
  {
   "cell_type": "code",
   "execution_count": 239,
   "metadata": {},
   "outputs": [],
   "source": [
    "rounds2 = rounds2[~np.isnan(rounds2['raised_amount_usd'])]"
   ]
  },
  {
   "cell_type": "code",
   "execution_count": 240,
   "metadata": {
    "scrolled": true
   },
   "outputs": [
    {
     "name": "stdout",
     "output_type": "stream",
     "text": [
      "<class 'pandas.core.frame.DataFrame'>\n",
      "Int64Index: 94959 entries, 0 to 114948\n",
      "Data columns (total 5 columns):\n",
      " #   Column                   Non-Null Count  Dtype  \n",
      "---  ------                   --------------  -----  \n",
      " 0   company_permalink        94959 non-null  object \n",
      " 1   funding_round_permalink  94959 non-null  object \n",
      " 2   funding_round_type       94959 non-null  object \n",
      " 3   funded_at                94959 non-null  object \n",
      " 4   raised_amount_usd        94959 non-null  float64\n",
      "dtypes: float64(1), object(4)\n",
      "memory usage: 4.3+ MB\n"
     ]
    }
   ],
   "source": [
    "rounds2.info()"
   ]
  },
  {
   "cell_type": "code",
   "execution_count": 241,
   "metadata": {
    "scrolled": true
   },
   "outputs": [
    {
     "data": {
      "text/plain": [
       "company_permalink          0\n",
       "funding_round_permalink    0\n",
       "funding_round_type         0\n",
       "funded_at                  0\n",
       "raised_amount_usd          0\n",
       "dtype: int64"
      ]
     },
     "execution_count": 241,
     "metadata": {},
     "output_type": "execute_result"
    }
   ],
   "source": [
    "rounds2.isnull().sum()"
   ]
  },
  {
   "cell_type": "markdown",
   "metadata": {},
   "source": [
    "### Converting permalink to lowercase, would be helpful for merging "
   ]
  },
  {
   "cell_type": "code",
   "execution_count": 242,
   "metadata": {},
   "outputs": [],
   "source": [
    "companies['permalink'] = companies['permalink'].str.lower()\n",
    "rounds2['company_permalink'] = rounds2['company_permalink'].str.lower()"
   ]
  },
  {
   "cell_type": "markdown",
   "metadata": {},
   "source": [
    "### Merging 2 dataframes"
   ]
  },
  {
   "cell_type": "code",
   "execution_count": 243,
   "metadata": {},
   "outputs": [],
   "source": [
    "master_frame = pd.merge(companies,rounds2,how = 'inner', left_on = companies.permalink, right_on = rounds2.company_permalink)"
   ]
  },
  {
   "cell_type": "code",
   "execution_count": 244,
   "metadata": {},
   "outputs": [
    {
     "data": {
      "text/plain": [
       "venture                  50228\n",
       "seed                     23603\n",
       "debt_financing            6682\n",
       "angel                     4860\n",
       "grant                     2124\n",
       "private_equity            1936\n",
       "undisclosed               1582\n",
       "convertible_note          1447\n",
       "equity_crowdfunding       1228\n",
       "post_ipo_equity            628\n",
       "product_crowdfunding       386\n",
       "post_ipo_debt              152\n",
       "non_equity_assistance       73\n",
       "secondary_market            30\n",
       "Name: funding_round_type, dtype: int64"
      ]
     },
     "execution_count": 244,
     "metadata": {},
     "output_type": "execute_result"
    }
   ],
   "source": [
    "master_frame.funding_round_type.value_counts()"
   ]
  },
  {
   "cell_type": "code",
   "execution_count": 245,
   "metadata": {
    "scrolled": true
   },
   "outputs": [
    {
     "data": {
      "text/html": [
       "<div>\n",
       "<style scoped>\n",
       "    .dataframe tbody tr th:only-of-type {\n",
       "        vertical-align: middle;\n",
       "    }\n",
       "\n",
       "    .dataframe tbody tr th {\n",
       "        vertical-align: top;\n",
       "    }\n",
       "\n",
       "    .dataframe thead th {\n",
       "        text-align: right;\n",
       "    }\n",
       "</style>\n",
       "<table border=\"1\" class=\"dataframe\">\n",
       "  <thead>\n",
       "    <tr style=\"text-align: right;\">\n",
       "      <th></th>\n",
       "      <th>key_0</th>\n",
       "      <th>permalink</th>\n",
       "      <th>name</th>\n",
       "      <th>homepage_url</th>\n",
       "      <th>category_list</th>\n",
       "      <th>status</th>\n",
       "      <th>country_code</th>\n",
       "      <th>state_code</th>\n",
       "      <th>region</th>\n",
       "      <th>city</th>\n",
       "      <th>founded_at</th>\n",
       "      <th>company_permalink</th>\n",
       "      <th>funding_round_permalink</th>\n",
       "      <th>funding_round_type</th>\n",
       "      <th>funded_at</th>\n",
       "      <th>raised_amount_usd</th>\n",
       "    </tr>\n",
       "  </thead>\n",
       "  <tbody>\n",
       "    <tr>\n",
       "      <th>0</th>\n",
       "      <td>/organization/-fame</td>\n",
       "      <td>/organization/-fame</td>\n",
       "      <td>#fame</td>\n",
       "      <td>http://livfame.com</td>\n",
       "      <td>Media</td>\n",
       "      <td>operating</td>\n",
       "      <td>IND</td>\n",
       "      <td>16</td>\n",
       "      <td>Mumbai</td>\n",
       "      <td>Mumbai</td>\n",
       "      <td>NaN</td>\n",
       "      <td>/organization/-fame</td>\n",
       "      <td>/funding-round/9a01d05418af9f794eebff7ace91f638</td>\n",
       "      <td>venture</td>\n",
       "      <td>05-01-2015</td>\n",
       "      <td>10000000</td>\n",
       "    </tr>\n",
       "    <tr>\n",
       "      <th>1</th>\n",
       "      <td>/organization/-qounter</td>\n",
       "      <td>/organization/-qounter</td>\n",
       "      <td>:Qounter</td>\n",
       "      <td>http://www.qounter.com</td>\n",
       "      <td>Application Platforms|Real Time|Social Network...</td>\n",
       "      <td>operating</td>\n",
       "      <td>USA</td>\n",
       "      <td>DE</td>\n",
       "      <td>DE - Other</td>\n",
       "      <td>Delaware City</td>\n",
       "      <td>04-09-2014</td>\n",
       "      <td>/organization/-qounter</td>\n",
       "      <td>/funding-round/b44fbb94153f6cdef13083530bb48030</td>\n",
       "      <td>seed</td>\n",
       "      <td>01-03-2014</td>\n",
       "      <td>700000</td>\n",
       "    </tr>\n",
       "    <tr>\n",
       "      <th>2</th>\n",
       "      <td>/organization/-the-one-of-them-inc-</td>\n",
       "      <td>/organization/-the-one-of-them-inc-</td>\n",
       "      <td>(THE) ONE of THEM,Inc.</td>\n",
       "      <td>http://oneofthem.jp</td>\n",
       "      <td>Apps|Games|Mobile</td>\n",
       "      <td>operating</td>\n",
       "      <td>NaN</td>\n",
       "      <td>NaN</td>\n",
       "      <td>NaN</td>\n",
       "      <td>NaN</td>\n",
       "      <td>NaN</td>\n",
       "      <td>/organization/-the-one-of-them-inc-</td>\n",
       "      <td>/funding-round/650b8f704416801069bb178a1418776b</td>\n",
       "      <td>venture</td>\n",
       "      <td>30-01-2014</td>\n",
       "      <td>3406878</td>\n",
       "    </tr>\n",
       "    <tr>\n",
       "      <th>3</th>\n",
       "      <td>/organization/0-6-com</td>\n",
       "      <td>/organization/0-6-com</td>\n",
       "      <td>0-6.com</td>\n",
       "      <td>http://www.0-6.com</td>\n",
       "      <td>Curated Web</td>\n",
       "      <td>operating</td>\n",
       "      <td>CHN</td>\n",
       "      <td>22</td>\n",
       "      <td>Beijing</td>\n",
       "      <td>Beijing</td>\n",
       "      <td>01-01-2007</td>\n",
       "      <td>/organization/0-6-com</td>\n",
       "      <td>/funding-round/5727accaeaa57461bd22a9bdd945382d</td>\n",
       "      <td>venture</td>\n",
       "      <td>19-03-2008</td>\n",
       "      <td>2000000</td>\n",
       "    </tr>\n",
       "    <tr>\n",
       "      <th>4</th>\n",
       "      <td>/organization/01games-technology</td>\n",
       "      <td>/organization/01games-technology</td>\n",
       "      <td>01Games Technology</td>\n",
       "      <td>http://www.01games.hk/</td>\n",
       "      <td>Games</td>\n",
       "      <td>operating</td>\n",
       "      <td>HKG</td>\n",
       "      <td>NaN</td>\n",
       "      <td>Hong Kong</td>\n",
       "      <td>Hong Kong</td>\n",
       "      <td>NaN</td>\n",
       "      <td>/organization/01games-technology</td>\n",
       "      <td>/funding-round/7d53696f2b4f607a2f2a8cbb83d01839</td>\n",
       "      <td>undisclosed</td>\n",
       "      <td>01-07-2014</td>\n",
       "      <td>41250</td>\n",
       "    </tr>\n",
       "  </tbody>\n",
       "</table>\n",
       "</div>"
      ],
      "text/plain": [
       "                                 key_0                            permalink  \\\n",
       "0                  /organization/-fame                  /organization/-fame   \n",
       "1               /organization/-qounter               /organization/-qounter   \n",
       "2  /organization/-the-one-of-them-inc-  /organization/-the-one-of-them-inc-   \n",
       "3                /organization/0-6-com                /organization/0-6-com   \n",
       "4     /organization/01games-technology     /organization/01games-technology   \n",
       "\n",
       "                     name            homepage_url  \\\n",
       "0                   #fame      http://livfame.com   \n",
       "1                :Qounter  http://www.qounter.com   \n",
       "2  (THE) ONE of THEM,Inc.     http://oneofthem.jp   \n",
       "3                 0-6.com      http://www.0-6.com   \n",
       "4      01Games Technology  http://www.01games.hk/   \n",
       "\n",
       "                                       category_list     status country_code  \\\n",
       "0                                              Media  operating          IND   \n",
       "1  Application Platforms|Real Time|Social Network...  operating          USA   \n",
       "2                                  Apps|Games|Mobile  operating          NaN   \n",
       "3                                        Curated Web  operating          CHN   \n",
       "4                                              Games  operating          HKG   \n",
       "\n",
       "  state_code      region           city  founded_at  \\\n",
       "0         16      Mumbai         Mumbai         NaN   \n",
       "1         DE  DE - Other  Delaware City  04-09-2014   \n",
       "2        NaN         NaN            NaN         NaN   \n",
       "3         22     Beijing        Beijing  01-01-2007   \n",
       "4        NaN   Hong Kong      Hong Kong         NaN   \n",
       "\n",
       "                     company_permalink  \\\n",
       "0                  /organization/-fame   \n",
       "1               /organization/-qounter   \n",
       "2  /organization/-the-one-of-them-inc-   \n",
       "3                /organization/0-6-com   \n",
       "4     /organization/01games-technology   \n",
       "\n",
       "                           funding_round_permalink funding_round_type  \\\n",
       "0  /funding-round/9a01d05418af9f794eebff7ace91f638            venture   \n",
       "1  /funding-round/b44fbb94153f6cdef13083530bb48030               seed   \n",
       "2  /funding-round/650b8f704416801069bb178a1418776b            venture   \n",
       "3  /funding-round/5727accaeaa57461bd22a9bdd945382d            venture   \n",
       "4  /funding-round/7d53696f2b4f607a2f2a8cbb83d01839        undisclosed   \n",
       "\n",
       "    funded_at  raised_amount_usd  \n",
       "0  05-01-2015           10000000  \n",
       "1  01-03-2014             700000  \n",
       "2  30-01-2014            3406878  \n",
       "3  19-03-2008            2000000  \n",
       "4  01-07-2014              41250  "
      ]
     },
     "execution_count": 245,
     "metadata": {},
     "output_type": "execute_result"
    }
   ],
   "source": [
    "master_frame.head()"
   ]
  },
  {
   "cell_type": "markdown",
   "metadata": {},
   "source": [
    "### Dropping redudant columns from the master frame"
   ]
  },
  {
   "cell_type": "code",
   "execution_count": 246,
   "metadata": {},
   "outputs": [],
   "source": [
    "master_frame = master_frame.drop(['key_0', 'homepage_url', 'company_permalink','founded_at', 'state_code', 'region', 'city','funding_round_permalink'], axis=1)"
   ]
  },
  {
   "cell_type": "code",
   "execution_count": 247,
   "metadata": {},
   "outputs": [],
   "source": [
    "master_frame = master_frame[(master_frame.funding_round_type == \"venture\") | \n",
    "                            (master_frame.funding_round_type == \"angel\") | \n",
    "                            (master_frame.funding_round_type == \"seed\") | \n",
    "                            (master_frame.funding_round_type == \"private_equity\") \n",
    "                           ]"
   ]
  },
  {
   "cell_type": "code",
   "execution_count": 248,
   "metadata": {},
   "outputs": [
    {
     "name": "stdout",
     "output_type": "stream",
     "text": [
      "<class 'pandas.core.frame.DataFrame'>\n",
      "Int64Index: 80627 entries, 0 to 94957\n",
      "Data columns (total 8 columns):\n",
      " #   Column              Non-Null Count  Dtype  \n",
      "---  ------              --------------  -----  \n",
      " 0   permalink           80627 non-null  object \n",
      " 1   name                80626 non-null  object \n",
      " 2   category_list       79772 non-null  object \n",
      " 3   status              80627 non-null  object \n",
      " 4   country_code        75606 non-null  object \n",
      " 5   funding_round_type  80627 non-null  object \n",
      " 6   funded_at           80627 non-null  object \n",
      " 7   raised_amount_usd   80627 non-null  float64\n",
      "dtypes: float64(1), object(7)\n",
      "memory usage: 5.5+ MB\n"
     ]
    }
   ],
   "source": [
    "master_frame.info()"
   ]
  },
  {
   "cell_type": "markdown",
   "metadata": {},
   "source": [
    "### As we can se we have many records who does not have country code"
   ]
  },
  {
   "cell_type": "code",
   "execution_count": 249,
   "metadata": {
    "scrolled": true
   },
   "outputs": [
    {
     "data": {
      "text/plain": [
       "permalink                0\n",
       "name                     1\n",
       "category_list          855\n",
       "status                   0\n",
       "country_code          5021\n",
       "funding_round_type       0\n",
       "funded_at                0\n",
       "raised_amount_usd        0\n",
       "dtype: int64"
      ]
     },
     "execution_count": 249,
     "metadata": {},
     "output_type": "execute_result"
    }
   ],
   "source": [
    "master_frame.isnull().sum()"
   ]
  },
  {
   "cell_type": "code",
   "execution_count": 250,
   "metadata": {
    "scrolled": false
   },
   "outputs": [
    {
     "data": {
      "text/html": [
       "<div>\n",
       "<style scoped>\n",
       "    .dataframe tbody tr th:only-of-type {\n",
       "        vertical-align: middle;\n",
       "    }\n",
       "\n",
       "    .dataframe tbody tr th {\n",
       "        vertical-align: top;\n",
       "    }\n",
       "\n",
       "    .dataframe thead th {\n",
       "        text-align: right;\n",
       "    }\n",
       "</style>\n",
       "<table border=\"1\" class=\"dataframe\">\n",
       "  <thead>\n",
       "    <tr style=\"text-align: right;\">\n",
       "      <th></th>\n",
       "      <th>permalink</th>\n",
       "      <th>name</th>\n",
       "      <th>category_list</th>\n",
       "      <th>status</th>\n",
       "      <th>country_code</th>\n",
       "      <th>funding_round_type</th>\n",
       "      <th>funded_at</th>\n",
       "      <th>raised_amount_usd</th>\n",
       "    </tr>\n",
       "  </thead>\n",
       "  <tbody>\n",
       "    <tr>\n",
       "      <th>2</th>\n",
       "      <td>/organization/-the-one-of-them-inc-</td>\n",
       "      <td>(THE) ONE of THEM,Inc.</td>\n",
       "      <td>Apps|Games|Mobile</td>\n",
       "      <td>operating</td>\n",
       "      <td>NaN</td>\n",
       "      <td>venture</td>\n",
       "      <td>30-01-2014</td>\n",
       "      <td>3406878</td>\n",
       "    </tr>\n",
       "    <tr>\n",
       "      <th>26</th>\n",
       "      <td>/organization/1000chi</td>\n",
       "      <td>Beijing 1000CHI Software Technology</td>\n",
       "      <td>Mobile</td>\n",
       "      <td>operating</td>\n",
       "      <td>NaN</td>\n",
       "      <td>angel</td>\n",
       "      <td>01-04-2010</td>\n",
       "      <td>43923865</td>\n",
       "    </tr>\n",
       "    <tr>\n",
       "      <th>52</th>\n",
       "      <td>/organization/10k-2</td>\n",
       "      <td>Beans Around</td>\n",
       "      <td>Coffee|Delivery|Subscription Service</td>\n",
       "      <td>operating</td>\n",
       "      <td>NaN</td>\n",
       "      <td>seed</td>\n",
       "      <td>04-09-2015</td>\n",
       "      <td>100000</td>\n",
       "    </tr>\n",
       "    <tr>\n",
       "      <th>72</th>\n",
       "      <td>/organization/1234enter</td>\n",
       "      <td>1234ENTER</td>\n",
       "      <td>Advertising|Analytics|Business Services|E-Comm...</td>\n",
       "      <td>operating</td>\n",
       "      <td>NaN</td>\n",
       "      <td>venture</td>\n",
       "      <td>22-11-2013</td>\n",
       "      <td>150267</td>\n",
       "    </tr>\n",
       "    <tr>\n",
       "      <th>73</th>\n",
       "      <td>/organization/1234enter</td>\n",
       "      <td>1234ENTER</td>\n",
       "      <td>Advertising|Analytics|Business Services|E-Comm...</td>\n",
       "      <td>operating</td>\n",
       "      <td>NaN</td>\n",
       "      <td>seed</td>\n",
       "      <td>01-09-2012</td>\n",
       "      <td>500000</td>\n",
       "    </tr>\n",
       "    <tr>\n",
       "      <th>...</th>\n",
       "      <td>...</td>\n",
       "      <td>...</td>\n",
       "      <td>...</td>\n",
       "      <td>...</td>\n",
       "      <td>...</td>\n",
       "      <td>...</td>\n",
       "      <td>...</td>\n",
       "      <td>...</td>\n",
       "    </tr>\n",
       "    <tr>\n",
       "      <th>94784</th>\n",
       "      <td>/organization/zte9-corporation</td>\n",
       "      <td>ZTE9 Corporation</td>\n",
       "      <td>Mobile</td>\n",
       "      <td>operating</td>\n",
       "      <td>NaN</td>\n",
       "      <td>venture</td>\n",
       "      <td>01-02-2014</td>\n",
       "      <td>2059308</td>\n",
       "    </tr>\n",
       "    <tr>\n",
       "      <th>94797</th>\n",
       "      <td>/organization/zuggi</td>\n",
       "      <td>ZUGGI</td>\n",
       "      <td>Search</td>\n",
       "      <td>operating</td>\n",
       "      <td>NaN</td>\n",
       "      <td>seed</td>\n",
       "      <td>20-06-2011</td>\n",
       "      <td>40000</td>\n",
       "    </tr>\n",
       "    <tr>\n",
       "      <th>94862</th>\n",
       "      <td>/organization/zuumtel</td>\n",
       "      <td>ZUUMTEL</td>\n",
       "      <td>Automotive|Design|Real Time</td>\n",
       "      <td>closed</td>\n",
       "      <td>NaN</td>\n",
       "      <td>angel</td>\n",
       "      <td>16-09-2014</td>\n",
       "      <td>200000</td>\n",
       "    </tr>\n",
       "    <tr>\n",
       "      <th>94863</th>\n",
       "      <td>/organization/zuumtel</td>\n",
       "      <td>ZUUMTEL</td>\n",
       "      <td>Automotive|Design|Real Time</td>\n",
       "      <td>closed</td>\n",
       "      <td>NaN</td>\n",
       "      <td>seed</td>\n",
       "      <td>01-04-2013</td>\n",
       "      <td>100000</td>\n",
       "    </tr>\n",
       "    <tr>\n",
       "      <th>94875</th>\n",
       "      <td>/organization/zwayo-\"on-demand-valet-parking\"</td>\n",
       "      <td>Zwayo \"On-Demand Valet Parking\"</td>\n",
       "      <td>Apps|Cars|Parking</td>\n",
       "      <td>operating</td>\n",
       "      <td>NaN</td>\n",
       "      <td>seed</td>\n",
       "      <td>01-09-2014</td>\n",
       "      <td>60000</td>\n",
       "    </tr>\n",
       "  </tbody>\n",
       "</table>\n",
       "<p>5021 rows × 8 columns</p>\n",
       "</div>"
      ],
      "text/plain": [
       "                                           permalink  \\\n",
       "2                /organization/-the-one-of-them-inc-   \n",
       "26                             /organization/1000chi   \n",
       "52                               /organization/10k-2   \n",
       "72                           /organization/1234enter   \n",
       "73                           /organization/1234enter   \n",
       "...                                              ...   \n",
       "94784                 /organization/zte9-corporation   \n",
       "94797                            /organization/zuggi   \n",
       "94862                          /organization/zuumtel   \n",
       "94863                          /organization/zuumtel   \n",
       "94875  /organization/zwayo-\"on-demand-valet-parking\"   \n",
       "\n",
       "                                      name  \\\n",
       "2                   (THE) ONE of THEM,Inc.   \n",
       "26     Beijing 1000CHI Software Technology   \n",
       "52                            Beans Around   \n",
       "72                               1234ENTER   \n",
       "73                               1234ENTER   \n",
       "...                                    ...   \n",
       "94784                     ZTE9 Corporation   \n",
       "94797                                ZUGGI   \n",
       "94862                              ZUUMTEL   \n",
       "94863                              ZUUMTEL   \n",
       "94875      Zwayo \"On-Demand Valet Parking\"   \n",
       "\n",
       "                                           category_list     status  \\\n",
       "2                                      Apps|Games|Mobile  operating   \n",
       "26                                                Mobile  operating   \n",
       "52                  Coffee|Delivery|Subscription Service  operating   \n",
       "72     Advertising|Analytics|Business Services|E-Comm...  operating   \n",
       "73     Advertising|Analytics|Business Services|E-Comm...  operating   \n",
       "...                                                  ...        ...   \n",
       "94784                                             Mobile  operating   \n",
       "94797                                             Search  operating   \n",
       "94862                        Automotive|Design|Real Time     closed   \n",
       "94863                        Automotive|Design|Real Time     closed   \n",
       "94875                                  Apps|Cars|Parking  operating   \n",
       "\n",
       "      country_code funding_round_type   funded_at  raised_amount_usd  \n",
       "2              NaN            venture  30-01-2014            3406878  \n",
       "26             NaN              angel  01-04-2010           43923865  \n",
       "52             NaN               seed  04-09-2015             100000  \n",
       "72             NaN            venture  22-11-2013             150267  \n",
       "73             NaN               seed  01-09-2012             500000  \n",
       "...            ...                ...         ...                ...  \n",
       "94784          NaN            venture  01-02-2014            2059308  \n",
       "94797          NaN               seed  20-06-2011              40000  \n",
       "94862          NaN              angel  16-09-2014             200000  \n",
       "94863          NaN               seed  01-04-2013             100000  \n",
       "94875          NaN               seed  01-09-2014              60000  \n",
       "\n",
       "[5021 rows x 8 columns]"
      ]
     },
     "execution_count": 250,
     "metadata": {},
     "output_type": "execute_result"
    }
   ],
   "source": [
    "master_frame[master_frame['country_code'].isnull()]"
   ]
  },
  {
   "cell_type": "markdown",
   "metadata": {},
   "source": [
    "### Droping columns which have null country_codes"
   ]
  },
  {
   "cell_type": "code",
   "execution_count": 251,
   "metadata": {},
   "outputs": [],
   "source": [
    "master_frame = master_frame[~master_frame['country_code'].isnull()]"
   ]
  },
  {
   "cell_type": "code",
   "execution_count": 252,
   "metadata": {
    "scrolled": true
   },
   "outputs": [
    {
     "data": {
      "text/plain": [
       "permalink               0\n",
       "name                    1\n",
       "category_list         482\n",
       "status                  0\n",
       "country_code            0\n",
       "funding_round_type      0\n",
       "funded_at               0\n",
       "raised_amount_usd       0\n",
       "dtype: int64"
      ]
     },
     "execution_count": 252,
     "metadata": {},
     "output_type": "execute_result"
    }
   ],
   "source": [
    "master_frame.isnull().sum()"
   ]
  },
  {
   "cell_type": "markdown",
   "metadata": {},
   "source": [
    "### Droping columns which have No Names"
   ]
  },
  {
   "cell_type": "code",
   "execution_count": 253,
   "metadata": {},
   "outputs": [],
   "source": [
    "master_frame = master_frame[~master_frame.name.isnull()]"
   ]
  },
  {
   "cell_type": "code",
   "execution_count": 254,
   "metadata": {
    "scrolled": false
   },
   "outputs": [
    {
     "data": {
      "text/plain": [
       "permalink               0\n",
       "name                    0\n",
       "category_list         482\n",
       "status                  0\n",
       "country_code            0\n",
       "funding_round_type      0\n",
       "funded_at               0\n",
       "raised_amount_usd       0\n",
       "dtype: int64"
      ]
     },
     "execution_count": 254,
     "metadata": {},
     "output_type": "execute_result"
    }
   ],
   "source": [
    "master_frame.isnull().sum()"
   ]
  },
  {
   "cell_type": "markdown",
   "metadata": {},
   "source": [
    "### Droping columns which have No Categories mentioned in the category, as category is the identifying factor to segment the company in a domain"
   ]
  },
  {
   "cell_type": "code",
   "execution_count": 255,
   "metadata": {},
   "outputs": [],
   "source": [
    "master_frame = master_frame[~master_frame.category_list.isnull()]"
   ]
  },
  {
   "cell_type": "code",
   "execution_count": 256,
   "metadata": {
    "scrolled": false
   },
   "outputs": [
    {
     "data": {
      "text/plain": [
       "permalink             0\n",
       "name                  0\n",
       "category_list         0\n",
       "status                0\n",
       "country_code          0\n",
       "funding_round_type    0\n",
       "funded_at             0\n",
       "raised_amount_usd     0\n",
       "dtype: int64"
      ]
     },
     "execution_count": 256,
     "metadata": {},
     "output_type": "execute_result"
    }
   ],
   "source": [
    "master_frame.isnull().sum()"
   ]
  },
  {
   "cell_type": "code",
   "execution_count": 257,
   "metadata": {
    "scrolled": true
   },
   "outputs": [
    {
     "data": {
      "text/plain": [
       "permalink             75123\n",
       "name                  75123\n",
       "category_list         75123\n",
       "status                75123\n",
       "country_code          75123\n",
       "funding_round_type    75123\n",
       "funded_at             75123\n",
       "raised_amount_usd     75123\n",
       "dtype: int64"
      ]
     },
     "execution_count": 257,
     "metadata": {},
     "output_type": "execute_result"
    }
   ],
   "source": [
    "master_frame.count()"
   ]
  },
  {
   "cell_type": "code",
   "execution_count": 258,
   "metadata": {},
   "outputs": [
    {
     "data": {
      "text/plain": [
       "funding_round_type\n",
       "private_equity   20000000\n",
       "venture           5000000\n",
       "angel              414906\n",
       "seed               300000\n",
       "Name: raised_amount_usd, dtype: float64"
      ]
     },
     "execution_count": 258,
     "metadata": {},
     "output_type": "execute_result"
    }
   ],
   "source": [
    "master_frame.groupby('funding_round_type')['raised_amount_usd'].median().sort_values(ascending=False)"
   ]
  },
  {
   "cell_type": "markdown",
   "metadata": {},
   "source": [
    "###  By above resultset we can conclude that \"Venture\" Round Type has a median of 5 million USD which is perfectly suitable for Spark Fund LLP"
   ]
  },
  {
   "cell_type": "code",
   "execution_count": 259,
   "metadata": {},
   "outputs": [],
   "source": [
    "master_frame = master_frame[master_frame['funding_round_type'].isin(['venture'])]"
   ]
  },
  {
   "cell_type": "markdown",
   "metadata": {},
   "source": [
    "### Spliting Category list column data master_frame to get the primary sector"
   ]
  },
  {
   "cell_type": "code",
   "execution_count": 260,
   "metadata": {
    "scrolled": true
   },
   "outputs": [
    {
     "data": {
      "text/html": [
       "<div>\n",
       "<style scoped>\n",
       "    .dataframe tbody tr th:only-of-type {\n",
       "        vertical-align: middle;\n",
       "    }\n",
       "\n",
       "    .dataframe tbody tr th {\n",
       "        vertical-align: top;\n",
       "    }\n",
       "\n",
       "    .dataframe thead th {\n",
       "        text-align: right;\n",
       "    }\n",
       "</style>\n",
       "<table border=\"1\" class=\"dataframe\">\n",
       "  <thead>\n",
       "    <tr style=\"text-align: right;\">\n",
       "      <th></th>\n",
       "      <th>permalink</th>\n",
       "      <th>name</th>\n",
       "      <th>category_list</th>\n",
       "      <th>status</th>\n",
       "      <th>country_code</th>\n",
       "      <th>funding_round_type</th>\n",
       "      <th>funded_at</th>\n",
       "      <th>raised_amount_usd</th>\n",
       "      <th>primary_sector</th>\n",
       "    </tr>\n",
       "  </thead>\n",
       "  <tbody>\n",
       "    <tr>\n",
       "      <th>0</th>\n",
       "      <td>/organization/-fame</td>\n",
       "      <td>#fame</td>\n",
       "      <td>Media</td>\n",
       "      <td>operating</td>\n",
       "      <td>IND</td>\n",
       "      <td>venture</td>\n",
       "      <td>05-01-2015</td>\n",
       "      <td>10000000</td>\n",
       "      <td>Media</td>\n",
       "    </tr>\n",
       "    <tr>\n",
       "      <th>3</th>\n",
       "      <td>/organization/0-6-com</td>\n",
       "      <td>0-6.com</td>\n",
       "      <td>Curated Web</td>\n",
       "      <td>operating</td>\n",
       "      <td>CHN</td>\n",
       "      <td>venture</td>\n",
       "      <td>19-03-2008</td>\n",
       "      <td>2000000</td>\n",
       "      <td>Curated Web</td>\n",
       "    </tr>\n",
       "    <tr>\n",
       "      <th>6</th>\n",
       "      <td>/organization/0ndine-biomedical-inc</td>\n",
       "      <td>Ondine Biomedical Inc.</td>\n",
       "      <td>Biotechnology</td>\n",
       "      <td>operating</td>\n",
       "      <td>CAN</td>\n",
       "      <td>venture</td>\n",
       "      <td>21-12-2009</td>\n",
       "      <td>719491</td>\n",
       "      <td>Biotechnology</td>\n",
       "    </tr>\n",
       "    <tr>\n",
       "      <th>8</th>\n",
       "      <td>/organization/0xdata</td>\n",
       "      <td>H2O.ai</td>\n",
       "      <td>Analytics</td>\n",
       "      <td>operating</td>\n",
       "      <td>USA</td>\n",
       "      <td>venture</td>\n",
       "      <td>09-11-2015</td>\n",
       "      <td>20000000</td>\n",
       "      <td>Analytics</td>\n",
       "    </tr>\n",
       "    <tr>\n",
       "      <th>9</th>\n",
       "      <td>/organization/0xdata</td>\n",
       "      <td>H2O.ai</td>\n",
       "      <td>Analytics</td>\n",
       "      <td>operating</td>\n",
       "      <td>USA</td>\n",
       "      <td>venture</td>\n",
       "      <td>03-01-2013</td>\n",
       "      <td>1700000</td>\n",
       "      <td>Analytics</td>\n",
       "    </tr>\n",
       "  </tbody>\n",
       "</table>\n",
       "</div>"
      ],
      "text/plain": [
       "                             permalink                    name  category_list  \\\n",
       "0                  /organization/-fame                   #fame          Media   \n",
       "3                /organization/0-6-com                 0-6.com    Curated Web   \n",
       "6  /organization/0ndine-biomedical-inc  Ondine Biomedical Inc.  Biotechnology   \n",
       "8                 /organization/0xdata                  H2O.ai      Analytics   \n",
       "9                 /organization/0xdata                  H2O.ai      Analytics   \n",
       "\n",
       "      status country_code funding_round_type   funded_at  raised_amount_usd  \\\n",
       "0  operating          IND            venture  05-01-2015           10000000   \n",
       "3  operating          CHN            venture  19-03-2008            2000000   \n",
       "6  operating          CAN            venture  21-12-2009             719491   \n",
       "8  operating          USA            venture  09-11-2015           20000000   \n",
       "9  operating          USA            venture  03-01-2013            1700000   \n",
       "\n",
       "  primary_sector  \n",
       "0          Media  \n",
       "3    Curated Web  \n",
       "6  Biotechnology  \n",
       "8      Analytics  \n",
       "9      Analytics  "
      ]
     },
     "execution_count": 260,
     "metadata": {},
     "output_type": "execute_result"
    }
   ],
   "source": [
    "master_frame['primary_sector'] = master_frame['category_list'].str.split('|',n=1,expand = True)[0]\n",
    "\n",
    "#OR\n",
    "\n",
    "# master_frame['primary_sector'] = master_frame['category_list'].apply(lambda x: x.split(\"|\")[0])\n",
    "master_frame.head()"
   ]
  },
  {
   "cell_type": "code",
   "execution_count": 261,
   "metadata": {},
   "outputs": [],
   "source": [
    "# pd.set_option('display.max_columns', None)\n",
    "# pd.set_option('display.max_rows', 100)"
   ]
  },
  {
   "cell_type": "code",
   "execution_count": 263,
   "metadata": {
    "scrolled": false
   },
   "outputs": [
    {
     "data": {
      "text/html": [
       "<div>\n",
       "<style scoped>\n",
       "    .dataframe tbody tr th:only-of-type {\n",
       "        vertical-align: middle;\n",
       "    }\n",
       "\n",
       "    .dataframe tbody tr th {\n",
       "        vertical-align: top;\n",
       "    }\n",
       "\n",
       "    .dataframe thead th {\n",
       "        text-align: right;\n",
       "    }\n",
       "</style>\n",
       "<table border=\"1\" class=\"dataframe\">\n",
       "  <thead>\n",
       "    <tr style=\"text-align: right;\">\n",
       "      <th></th>\n",
       "      <th>permalink</th>\n",
       "      <th>name</th>\n",
       "      <th>category_list</th>\n",
       "      <th>status</th>\n",
       "      <th>country_code</th>\n",
       "      <th>funding_round_type</th>\n",
       "      <th>funded_at</th>\n",
       "      <th>raised_amount_usd</th>\n",
       "      <th>primary_sector</th>\n",
       "    </tr>\n",
       "  </thead>\n",
       "  <tbody>\n",
       "    <tr>\n",
       "      <th>8</th>\n",
       "      <td>/organization/0xdata</td>\n",
       "      <td>H2O.ai</td>\n",
       "      <td>Analytics</td>\n",
       "      <td>operating</td>\n",
       "      <td>USA</td>\n",
       "      <td>venture</td>\n",
       "      <td>09-11-2015</td>\n",
       "      <td>20000000</td>\n",
       "      <td>Analytics</td>\n",
       "    </tr>\n",
       "    <tr>\n",
       "      <th>9</th>\n",
       "      <td>/organization/0xdata</td>\n",
       "      <td>H2O.ai</td>\n",
       "      <td>Analytics</td>\n",
       "      <td>operating</td>\n",
       "      <td>USA</td>\n",
       "      <td>venture</td>\n",
       "      <td>03-01-2013</td>\n",
       "      <td>1700000</td>\n",
       "      <td>Analytics</td>\n",
       "    </tr>\n",
       "    <tr>\n",
       "      <th>10</th>\n",
       "      <td>/organization/0xdata</td>\n",
       "      <td>H2O.ai</td>\n",
       "      <td>Analytics</td>\n",
       "      <td>operating</td>\n",
       "      <td>USA</td>\n",
       "      <td>venture</td>\n",
       "      <td>19-07-2014</td>\n",
       "      <td>8900000</td>\n",
       "      <td>Analytics</td>\n",
       "    </tr>\n",
       "    <tr>\n",
       "      <th>49</th>\n",
       "      <td>/organization/100plus</td>\n",
       "      <td>100Plus</td>\n",
       "      <td>Analytics</td>\n",
       "      <td>acquired</td>\n",
       "      <td>USA</td>\n",
       "      <td>venture</td>\n",
       "      <td>02-11-2011</td>\n",
       "      <td>500000</td>\n",
       "      <td>Analytics</td>\n",
       "    </tr>\n",
       "    <tr>\n",
       "      <th>116</th>\n",
       "      <td>/organization/19pay</td>\n",
       "      <td>19pay</td>\n",
       "      <td>Finance|FinTech</td>\n",
       "      <td>operating</td>\n",
       "      <td>CHN</td>\n",
       "      <td>venture</td>\n",
       "      <td>01-01-2010</td>\n",
       "      <td>6230000</td>\n",
       "      <td>Finance</td>\n",
       "    </tr>\n",
       "    <tr>\n",
       "      <th>...</th>\n",
       "      <td>...</td>\n",
       "      <td>...</td>\n",
       "      <td>...</td>\n",
       "      <td>...</td>\n",
       "      <td>...</td>\n",
       "      <td>...</td>\n",
       "      <td>...</td>\n",
       "      <td>...</td>\n",
       "      <td>...</td>\n",
       "    </tr>\n",
       "    <tr>\n",
       "      <th>94714</th>\n",
       "      <td>/organization/zopa</td>\n",
       "      <td>Zopa</td>\n",
       "      <td>Finance|FinTech</td>\n",
       "      <td>operating</td>\n",
       "      <td>GBR</td>\n",
       "      <td>venture</td>\n",
       "      <td>20-03-2007</td>\n",
       "      <td>12900000</td>\n",
       "      <td>Finance</td>\n",
       "    </tr>\n",
       "    <tr>\n",
       "      <th>94715</th>\n",
       "      <td>/organization/zopa</td>\n",
       "      <td>Zopa</td>\n",
       "      <td>Finance|FinTech</td>\n",
       "      <td>operating</td>\n",
       "      <td>GBR</td>\n",
       "      <td>venture</td>\n",
       "      <td>01-03-2006</td>\n",
       "      <td>15000000</td>\n",
       "      <td>Finance</td>\n",
       "    </tr>\n",
       "    <tr>\n",
       "      <th>94716</th>\n",
       "      <td>/organization/zopa</td>\n",
       "      <td>Zopa</td>\n",
       "      <td>Finance|FinTech</td>\n",
       "      <td>operating</td>\n",
       "      <td>GBR</td>\n",
       "      <td>venture</td>\n",
       "      <td>01-07-2006</td>\n",
       "      <td>5000000</td>\n",
       "      <td>Finance</td>\n",
       "    </tr>\n",
       "    <tr>\n",
       "      <th>94717</th>\n",
       "      <td>/organization/zopa</td>\n",
       "      <td>Zopa</td>\n",
       "      <td>Finance|FinTech</td>\n",
       "      <td>operating</td>\n",
       "      <td>GBR</td>\n",
       "      <td>venture</td>\n",
       "      <td>01-01-2005</td>\n",
       "      <td>1000000</td>\n",
       "      <td>Finance</td>\n",
       "    </tr>\n",
       "    <tr>\n",
       "      <th>94860</th>\n",
       "      <td>/organization/zuu-onlnine</td>\n",
       "      <td>Zuu Online</td>\n",
       "      <td>Financial Services</td>\n",
       "      <td>operating</td>\n",
       "      <td>JPN</td>\n",
       "      <td>venture</td>\n",
       "      <td>28-09-2015</td>\n",
       "      <td>3700000</td>\n",
       "      <td>Financial Services</td>\n",
       "    </tr>\n",
       "  </tbody>\n",
       "</table>\n",
       "<p>3117 rows × 9 columns</p>\n",
       "</div>"
      ],
      "text/plain": [
       "                       permalink        name       category_list     status  \\\n",
       "8           /organization/0xdata      H2O.ai           Analytics  operating   \n",
       "9           /organization/0xdata      H2O.ai           Analytics  operating   \n",
       "10          /organization/0xdata      H2O.ai           Analytics  operating   \n",
       "49         /organization/100plus     100Plus           Analytics   acquired   \n",
       "116          /organization/19pay       19pay     Finance|FinTech  operating   \n",
       "...                          ...         ...                 ...        ...   \n",
       "94714         /organization/zopa        Zopa     Finance|FinTech  operating   \n",
       "94715         /organization/zopa        Zopa     Finance|FinTech  operating   \n",
       "94716         /organization/zopa        Zopa     Finance|FinTech  operating   \n",
       "94717         /organization/zopa        Zopa     Finance|FinTech  operating   \n",
       "94860  /organization/zuu-onlnine  Zuu Online  Financial Services  operating   \n",
       "\n",
       "      country_code funding_round_type   funded_at  raised_amount_usd  \\\n",
       "8              USA            venture  09-11-2015           20000000   \n",
       "9              USA            venture  03-01-2013            1700000   \n",
       "10             USA            venture  19-07-2014            8900000   \n",
       "49             USA            venture  02-11-2011             500000   \n",
       "116            CHN            venture  01-01-2010            6230000   \n",
       "...            ...                ...         ...                ...   \n",
       "94714          GBR            venture  20-03-2007           12900000   \n",
       "94715          GBR            venture  01-03-2006           15000000   \n",
       "94716          GBR            venture  01-07-2006            5000000   \n",
       "94717          GBR            venture  01-01-2005            1000000   \n",
       "94860          JPN            venture  28-09-2015            3700000   \n",
       "\n",
       "           primary_sector  \n",
       "8               Analytics  \n",
       "9               Analytics  \n",
       "10              Analytics  \n",
       "49              Analytics  \n",
       "116               Finance  \n",
       "...                   ...  \n",
       "94714             Finance  \n",
       "94715             Finance  \n",
       "94716             Finance  \n",
       "94717             Finance  \n",
       "94860  Financial Services  \n",
       "\n",
       "[3117 rows x 9 columns]"
      ]
     },
     "execution_count": 263,
     "metadata": {},
     "output_type": "execute_result"
    }
   ],
   "source": [
    "# values in main_category column in master_frame which are not in the category_list column in mapping file\n",
    "master_frame[~master_frame['primary_sector'].isin(mapping['category_list'])]"
   ]
  },
  {
   "cell_type": "code",
   "execution_count": 264,
   "metadata": {
    "scrolled": false
   },
   "outputs": [
    {
     "data": {
      "text/html": [
       "<div>\n",
       "<style scoped>\n",
       "    .dataframe tbody tr th:only-of-type {\n",
       "        vertical-align: middle;\n",
       "    }\n",
       "\n",
       "    .dataframe tbody tr th {\n",
       "        vertical-align: top;\n",
       "    }\n",
       "\n",
       "    .dataframe thead th {\n",
       "        text-align: right;\n",
       "    }\n",
       "</style>\n",
       "<table border=\"1\" class=\"dataframe\">\n",
       "  <thead>\n",
       "    <tr style=\"text-align: right;\">\n",
       "      <th></th>\n",
       "      <th>category_list</th>\n",
       "      <th>Automotive &amp; Sports</th>\n",
       "      <th>Blanks</th>\n",
       "      <th>Cleantech / Semiconductors</th>\n",
       "      <th>Entertainment</th>\n",
       "      <th>Health</th>\n",
       "      <th>Manufacturing</th>\n",
       "      <th>News, Search and Messaging</th>\n",
       "      <th>Others</th>\n",
       "      <th>Social, Finance, Analytics, Advertising</th>\n",
       "    </tr>\n",
       "  </thead>\n",
       "  <tbody>\n",
       "    <tr>\n",
       "      <th>0</th>\n",
       "      <td>NaN</td>\n",
       "      <td>0</td>\n",
       "      <td>1</td>\n",
       "      <td>0</td>\n",
       "      <td>0</td>\n",
       "      <td>0</td>\n",
       "      <td>0</td>\n",
       "      <td>0</td>\n",
       "      <td>0</td>\n",
       "      <td>0</td>\n",
       "    </tr>\n",
       "    <tr>\n",
       "      <th>16</th>\n",
       "      <td>Air Pollution Control</td>\n",
       "      <td>0</td>\n",
       "      <td>0</td>\n",
       "      <td>1</td>\n",
       "      <td>0</td>\n",
       "      <td>0</td>\n",
       "      <td>0</td>\n",
       "      <td>0</td>\n",
       "      <td>0</td>\n",
       "      <td>0</td>\n",
       "    </tr>\n",
       "    <tr>\n",
       "      <th>20</th>\n",
       "      <td>Alter0tive Medicine</td>\n",
       "      <td>0</td>\n",
       "      <td>0</td>\n",
       "      <td>0</td>\n",
       "      <td>0</td>\n",
       "      <td>1</td>\n",
       "      <td>0</td>\n",
       "      <td>0</td>\n",
       "      <td>0</td>\n",
       "      <td>0</td>\n",
       "    </tr>\n",
       "    <tr>\n",
       "      <th>22</th>\n",
       "      <td>A0lytics</td>\n",
       "      <td>0</td>\n",
       "      <td>0</td>\n",
       "      <td>0</td>\n",
       "      <td>0</td>\n",
       "      <td>0</td>\n",
       "      <td>0</td>\n",
       "      <td>0</td>\n",
       "      <td>0</td>\n",
       "      <td>1</td>\n",
       "    </tr>\n",
       "    <tr>\n",
       "      <th>33</th>\n",
       "      <td>Aquaculture</td>\n",
       "      <td>0</td>\n",
       "      <td>0</td>\n",
       "      <td>1</td>\n",
       "      <td>0</td>\n",
       "      <td>0</td>\n",
       "      <td>0</td>\n",
       "      <td>0</td>\n",
       "      <td>0</td>\n",
       "      <td>0</td>\n",
       "    </tr>\n",
       "    <tr>\n",
       "      <th>...</th>\n",
       "      <td>...</td>\n",
       "      <td>...</td>\n",
       "      <td>...</td>\n",
       "      <td>...</td>\n",
       "      <td>...</td>\n",
       "      <td>...</td>\n",
       "      <td>...</td>\n",
       "      <td>...</td>\n",
       "      <td>...</td>\n",
       "      <td>...</td>\n",
       "    </tr>\n",
       "    <tr>\n",
       "      <th>670</th>\n",
       "      <td>Virtual Workforces</td>\n",
       "      <td>0</td>\n",
       "      <td>0</td>\n",
       "      <td>0</td>\n",
       "      <td>1</td>\n",
       "      <td>0</td>\n",
       "      <td>0</td>\n",
       "      <td>0</td>\n",
       "      <td>0</td>\n",
       "      <td>0</td>\n",
       "    </tr>\n",
       "    <tr>\n",
       "      <th>672</th>\n",
       "      <td>Waste Ma0gement</td>\n",
       "      <td>0</td>\n",
       "      <td>0</td>\n",
       "      <td>1</td>\n",
       "      <td>0</td>\n",
       "      <td>0</td>\n",
       "      <td>0</td>\n",
       "      <td>0</td>\n",
       "      <td>0</td>\n",
       "      <td>0</td>\n",
       "    </tr>\n",
       "    <tr>\n",
       "      <th>682</th>\n",
       "      <td>Weddings</td>\n",
       "      <td>0</td>\n",
       "      <td>0</td>\n",
       "      <td>0</td>\n",
       "      <td>1</td>\n",
       "      <td>0</td>\n",
       "      <td>0</td>\n",
       "      <td>0</td>\n",
       "      <td>0</td>\n",
       "      <td>0</td>\n",
       "    </tr>\n",
       "    <tr>\n",
       "      <th>683</th>\n",
       "      <td>Wholesale</td>\n",
       "      <td>0</td>\n",
       "      <td>0</td>\n",
       "      <td>0</td>\n",
       "      <td>0</td>\n",
       "      <td>0</td>\n",
       "      <td>0</td>\n",
       "      <td>0</td>\n",
       "      <td>1</td>\n",
       "      <td>0</td>\n",
       "    </tr>\n",
       "    <tr>\n",
       "      <th>686</th>\n",
       "      <td>Women</td>\n",
       "      <td>0</td>\n",
       "      <td>0</td>\n",
       "      <td>0</td>\n",
       "      <td>0</td>\n",
       "      <td>0</td>\n",
       "      <td>0</td>\n",
       "      <td>0</td>\n",
       "      <td>1</td>\n",
       "      <td>0</td>\n",
       "    </tr>\n",
       "  </tbody>\n",
       "</table>\n",
       "<p>142 rows × 10 columns</p>\n",
       "</div>"
      ],
      "text/plain": [
       "             category_list  Automotive & Sports  Blanks  \\\n",
       "0                      NaN                    0       1   \n",
       "16   Air Pollution Control                    0       0   \n",
       "20     Alter0tive Medicine                    0       0   \n",
       "22                A0lytics                    0       0   \n",
       "33             Aquaculture                    0       0   \n",
       "..                     ...                  ...     ...   \n",
       "670     Virtual Workforces                    0       0   \n",
       "672        Waste Ma0gement                    0       0   \n",
       "682               Weddings                    0       0   \n",
       "683              Wholesale                    0       0   \n",
       "686                  Women                    0       0   \n",
       "\n",
       "     Cleantech / Semiconductors  Entertainment  Health  Manufacturing  \\\n",
       "0                             0              0       0              0   \n",
       "16                            1              0       0              0   \n",
       "20                            0              0       1              0   \n",
       "22                            0              0       0              0   \n",
       "33                            1              0       0              0   \n",
       "..                          ...            ...     ...            ...   \n",
       "670                           0              1       0              0   \n",
       "672                           1              0       0              0   \n",
       "682                           0              1       0              0   \n",
       "683                           0              0       0              0   \n",
       "686                           0              0       0              0   \n",
       "\n",
       "     News, Search and Messaging  Others  \\\n",
       "0                             0       0   \n",
       "16                            0       0   \n",
       "20                            0       0   \n",
       "22                            0       0   \n",
       "33                            0       0   \n",
       "..                          ...     ...   \n",
       "670                           0       0   \n",
       "672                           0       0   \n",
       "682                           0       0   \n",
       "683                           0       1   \n",
       "686                           0       1   \n",
       "\n",
       "     Social, Finance, Analytics, Advertising  \n",
       "0                                          0  \n",
       "16                                         0  \n",
       "20                                         0  \n",
       "22                                         1  \n",
       "33                                         0  \n",
       "..                                       ...  \n",
       "670                                        0  \n",
       "672                                        0  \n",
       "682                                        0  \n",
       "683                                        0  \n",
       "686                                        0  \n",
       "\n",
       "[142 rows x 10 columns]"
      ]
     },
     "execution_count": 264,
     "metadata": {},
     "output_type": "execute_result"
    }
   ],
   "source": [
    "# values in the category_list column which are not in main_category column \n",
    "mapping[~mapping['category_list'].isin(master_frame['primary_sector'])]"
   ]
  },
  {
   "cell_type": "markdown",
   "metadata": {},
   "source": [
    "### Merging Master Frame with Category List Data Frame using Primary Sector column which is newly created"
   ]
  },
  {
   "cell_type": "code",
   "execution_count": 302,
   "metadata": {},
   "outputs": [],
   "source": [
    "category_mapping = pd.merge(master_frame,mapping\n",
    "                            , left_on = master_frame.primary_sector.str.lower()\n",
    "                            , right_on = mapping.category_list.str.lower()\n",
    "                           )"
   ]
  },
  {
   "cell_type": "markdown",
   "metadata": {},
   "source": [
    "### Remove unwanted columns from category_mapping Data Frame"
   ]
  },
  {
   "cell_type": "code",
   "execution_count": 303,
   "metadata": {},
   "outputs": [],
   "source": [
    "category_mapping = category_mapping.drop(['key_0','category_list_x','category_list_y'],axis = 1)"
   ]
  },
  {
   "cell_type": "code",
   "execution_count": 304,
   "metadata": {
    "scrolled": false
   },
   "outputs": [
    {
     "data": {
      "text/plain": [
       "permalink                                  0\n",
       "name                                       0\n",
       "status                                     0\n",
       "country_code                               0\n",
       "funding_round_type                         0\n",
       "funded_at                                  0\n",
       "raised_amount_usd                          0\n",
       "primary_sector                             0\n",
       "Automotive & Sports                        0\n",
       "Blanks                                     0\n",
       "Cleantech / Semiconductors                 0\n",
       "Entertainment                              0\n",
       "Health                                     0\n",
       "Manufacturing                              0\n",
       "News, Search and Messaging                 0\n",
       "Others                                     0\n",
       "Social, Finance, Analytics, Advertising    0\n",
       "dtype: int64"
      ]
     },
     "execution_count": 304,
     "metadata": {},
     "output_type": "execute_result"
    }
   ],
   "source": [
    "category_mapping.isnull().sum()"
   ]
  },
  {
   "cell_type": "markdown",
   "metadata": {},
   "source": [
    "### As seen above there are no null values in the category mapping table, that means we are good to Analyze Further"
   ]
  },
  {
   "cell_type": "code",
   "execution_count": 268,
   "metadata": {
    "scrolled": true
   },
   "outputs": [
    {
     "data": {
      "text/plain": [
       "venture    44692\n",
       "Name: funding_round_type, dtype: int64"
      ]
     },
     "execution_count": 268,
     "metadata": {},
     "output_type": "execute_result"
    }
   ],
   "source": [
    "category_mapping.funding_round_type.value_counts()"
   ]
  },
  {
   "cell_type": "markdown",
   "metadata": {},
   "source": [
    "## Checkpoint 3: Country Analysis"
   ]
  },
  {
   "cell_type": "markdown",
   "metadata": {},
   "source": [
    "### Finding top 9 countries with highest number of investments"
   ]
  },
  {
   "cell_type": "code",
   "execution_count": 269,
   "metadata": {
    "scrolled": true
   },
   "outputs": [
    {
     "name": "stdout",
     "output_type": "stream",
     "text": [
      "country_code\n",
      "USA   392237581395\n",
      "CHN    37031436127\n",
      "GBR    18924390319\n",
      "IND    13537981235\n",
      "CAN     8715620524\n",
      "FRA     7033839680\n",
      "ISR     6520700477\n",
      "DEU     5751653571\n",
      "SWE     3029608085\n",
      "Name: raised_amount_usd, dtype: float64\n"
     ]
    }
   ],
   "source": [
    "country_wise_total = category_mapping.groupby('country_code')['raised_amount_usd'].sum().sort_values(ascending=False)\n",
    "print(country_wise_total.head(9))"
   ]
  },
  {
   "cell_type": "markdown",
   "metadata": {},
   "source": [
    "### From the above result set we can conclude that USA, GBR & IND are the top 3 countries which are english speaking  \n",
    "### (As Spark Fund has a plan to invest only in English Speaking Countries)"
   ]
  },
  {
   "cell_type": "markdown",
   "metadata": {},
   "source": [
    "## Checkpoint 4: Sector Analysis"
   ]
  },
  {
   "cell_type": "markdown",
   "metadata": {},
   "source": [
    "### Filtering for the top three countries and companies with 5 to 15 million USD investments"
   ]
  },
  {
   "cell_type": "code",
   "execution_count": 270,
   "metadata": {},
   "outputs": [],
   "source": [
    "top3_country = category_mapping[((category_mapping.country_code=='USA') | \n",
    "                                 (category_mapping.country_code=='GBR') | \n",
    "                                 (category_mapping.country_code=='IND')\n",
    "                                )\n",
    "                                & ((category_mapping['raised_amount_usd'] >= 5000000) \n",
    "                                    & (category_mapping['raised_amount_usd'] <= 15000000)\n",
    "                                  )\n",
    "                                ]\n",
    "                                   "
   ]
  },
  {
   "cell_type": "code",
   "execution_count": 271,
   "metadata": {
    "scrolled": false
   },
   "outputs": [
    {
     "data": {
      "text/plain": [
       "permalink                                  0\n",
       "name                                       0\n",
       "status                                     0\n",
       "country_code                               0\n",
       "funding_round_type                         0\n",
       "funded_at                                  0\n",
       "raised_amount_usd                          0\n",
       "primary_sector                             0\n",
       "Automotive & Sports                        0\n",
       "Blanks                                     0\n",
       "Cleantech / Semiconductors                 0\n",
       "Entertainment                              0\n",
       "Health                                     0\n",
       "Manufacturing                              0\n",
       "News, Search and Messaging                 0\n",
       "Others                                     0\n",
       "Social, Finance, Analytics, Advertising    0\n",
       "dtype: int64"
      ]
     },
     "execution_count": 271,
     "metadata": {},
     "output_type": "execute_result"
    }
   ],
   "source": [
    "top3_country.isnull().sum()"
   ]
  },
  {
   "cell_type": "markdown",
   "metadata": {},
   "source": [
    "#### Number of investments in top sector (3)"
   ]
  },
  {
   "cell_type": "code",
   "execution_count": 272,
   "metadata": {},
   "outputs": [],
   "source": [
    "top3_country_grp = top3_country.groupby(['country_code', 'primary_sector'])"
   ]
  },
  {
   "cell_type": "code",
   "execution_count": 273,
   "metadata": {
    "scrolled": true
   },
   "outputs": [
    {
     "data": {
      "text/html": [
       "<div>\n",
       "<style scoped>\n",
       "    .dataframe tbody tr th:only-of-type {\n",
       "        vertical-align: middle;\n",
       "    }\n",
       "\n",
       "    .dataframe tbody tr th {\n",
       "        vertical-align: top;\n",
       "    }\n",
       "\n",
       "    .dataframe thead th {\n",
       "        text-align: right;\n",
       "    }\n",
       "</style>\n",
       "<table border=\"1\" class=\"dataframe\">\n",
       "  <thead>\n",
       "    <tr style=\"text-align: right;\">\n",
       "      <th></th>\n",
       "      <th>count</th>\n",
       "      <th>sum</th>\n",
       "    </tr>\n",
       "    <tr>\n",
       "      <th>primary_sector</th>\n",
       "      <th></th>\n",
       "      <th></th>\n",
       "    </tr>\n",
       "  </thead>\n",
       "  <tbody>\n",
       "    <tr>\n",
       "      <th>Biotechnology</th>\n",
       "      <td>1477</td>\n",
       "      <td>13406336046</td>\n",
       "    </tr>\n",
       "    <tr>\n",
       "      <th>Software</th>\n",
       "      <td>1044</td>\n",
       "      <td>9125717374</td>\n",
       "    </tr>\n",
       "    <tr>\n",
       "      <th>Advertising</th>\n",
       "      <td>691</td>\n",
       "      <td>5870184347</td>\n",
       "    </tr>\n",
       "  </tbody>\n",
       "</table>\n",
       "</div>"
      ],
      "text/plain": [
       "                count         sum\n",
       "primary_sector                   \n",
       "Biotechnology    1477 13406336046\n",
       "Software         1044  9125717374\n",
       "Advertising       691  5870184347"
      ]
     },
     "execution_count": 273,
     "metadata": {},
     "output_type": "execute_result"
    }
   ],
   "source": [
    "top3_country_grp.raised_amount_usd.agg(['count', 'sum']).loc['USA'].sort_values(by = 'count',ascending = False).head(3)"
   ]
  },
  {
   "cell_type": "markdown",
   "metadata": {},
   "source": [
    "### Above result set is the top 5 Sectors which are heavily invested in \"USA\""
   ]
  },
  {
   "cell_type": "code",
   "execution_count": 274,
   "metadata": {
    "scrolled": true
   },
   "outputs": [
    {
     "data": {
      "text/html": [
       "<div>\n",
       "<style scoped>\n",
       "    .dataframe tbody tr th:only-of-type {\n",
       "        vertical-align: middle;\n",
       "    }\n",
       "\n",
       "    .dataframe tbody tr th {\n",
       "        vertical-align: top;\n",
       "    }\n",
       "\n",
       "    .dataframe thead th {\n",
       "        text-align: right;\n",
       "    }\n",
       "</style>\n",
       "<table border=\"1\" class=\"dataframe\">\n",
       "  <thead>\n",
       "    <tr style=\"text-align: right;\">\n",
       "      <th></th>\n",
       "      <th>count</th>\n",
       "      <th>sum</th>\n",
       "    </tr>\n",
       "    <tr>\n",
       "      <th>primary_sector</th>\n",
       "      <th></th>\n",
       "      <th></th>\n",
       "    </tr>\n",
       "  </thead>\n",
       "  <tbody>\n",
       "    <tr>\n",
       "      <th>Biotechnology</th>\n",
       "      <td>70</td>\n",
       "      <td>636958624</td>\n",
       "    </tr>\n",
       "    <tr>\n",
       "      <th>Software</th>\n",
       "      <td>45</td>\n",
       "      <td>383817324</td>\n",
       "    </tr>\n",
       "    <tr>\n",
       "      <th>Advertising</th>\n",
       "      <td>35</td>\n",
       "      <td>306794581</td>\n",
       "    </tr>\n",
       "  </tbody>\n",
       "</table>\n",
       "</div>"
      ],
      "text/plain": [
       "                count       sum\n",
       "primary_sector                 \n",
       "Biotechnology      70 636958624\n",
       "Software           45 383817324\n",
       "Advertising        35 306794581"
      ]
     },
     "execution_count": 274,
     "metadata": {},
     "output_type": "execute_result"
    }
   ],
   "source": [
    "top3_country_grp.raised_amount_usd.agg(['count', 'sum']).loc['GBR'].sort_values(by = 'count',ascending = False).head(3)"
   ]
  },
  {
   "cell_type": "markdown",
   "metadata": {},
   "source": [
    "### Above result set is the top 5 Sectors which are heavily invested in \"Great Britan\""
   ]
  },
  {
   "cell_type": "code",
   "execution_count": 275,
   "metadata": {
    "scrolled": false
   },
   "outputs": [
    {
     "data": {
      "text/html": [
       "<div>\n",
       "<style scoped>\n",
       "    .dataframe tbody tr th:only-of-type {\n",
       "        vertical-align: middle;\n",
       "    }\n",
       "\n",
       "    .dataframe tbody tr th {\n",
       "        vertical-align: top;\n",
       "    }\n",
       "\n",
       "    .dataframe thead th {\n",
       "        text-align: right;\n",
       "    }\n",
       "</style>\n",
       "<table border=\"1\" class=\"dataframe\">\n",
       "  <thead>\n",
       "    <tr style=\"text-align: right;\">\n",
       "      <th></th>\n",
       "      <th>count</th>\n",
       "      <th>sum</th>\n",
       "    </tr>\n",
       "    <tr>\n",
       "      <th>primary_sector</th>\n",
       "      <th></th>\n",
       "      <th></th>\n",
       "    </tr>\n",
       "  </thead>\n",
       "  <tbody>\n",
       "    <tr>\n",
       "      <th>E-Commerce</th>\n",
       "      <td>37</td>\n",
       "      <td>343869507</td>\n",
       "    </tr>\n",
       "    <tr>\n",
       "      <th>Software</th>\n",
       "      <td>19</td>\n",
       "      <td>163050000</td>\n",
       "    </tr>\n",
       "    <tr>\n",
       "      <th>Curated Web</th>\n",
       "      <td>15</td>\n",
       "      <td>110178770</td>\n",
       "    </tr>\n",
       "  </tbody>\n",
       "</table>\n",
       "</div>"
      ],
      "text/plain": [
       "                count       sum\n",
       "primary_sector                 \n",
       "E-Commerce         37 343869507\n",
       "Software           19 163050000\n",
       "Curated Web        15 110178770"
      ]
     },
     "execution_count": 275,
     "metadata": {},
     "output_type": "execute_result"
    }
   ],
   "source": [
    "top3_country_grp.raised_amount_usd.agg(['count', 'sum']).loc['IND'].sort_values(by = 'count',ascending = False).head(3)"
   ]
  },
  {
   "cell_type": "markdown",
   "metadata": {},
   "source": [
    "### Above result set is the top 5 Sectors which are heavily invested in \"India\""
   ]
  },
  {
   "cell_type": "markdown",
   "metadata": {},
   "source": [
    "### Creating 3 new Dataframes for top 3 country with investment amount between 5 to 15 million"
   ]
  },
  {
   "cell_type": "code",
   "execution_count": 276,
   "metadata": {},
   "outputs": [],
   "source": [
    "d1 = top3_country[(top3_country['country_code'] == 'USA')]\n",
    "d2 = top3_country[(top3_country['country_code'] == 'GBR')]\n",
    "d3 = top3_country[(top3_country['country_code'] == 'IND')]"
   ]
  },
  {
   "cell_type": "markdown",
   "metadata": {},
   "source": [
    "#### Total number of Investments (count) for USA"
   ]
  },
  {
   "cell_type": "code",
   "execution_count": 277,
   "metadata": {},
   "outputs": [
    {
     "data": {
      "text/plain": [
       "USA    11149\n",
       "Name: country_code, dtype: int64"
      ]
     },
     "execution_count": 277,
     "metadata": {},
     "output_type": "execute_result"
    }
   ],
   "source": [
    "d1.country_code.value_counts()"
   ]
  },
  {
   "cell_type": "markdown",
   "metadata": {},
   "source": [
    "#### Total number of Investments (count) for GBR"
   ]
  },
  {
   "cell_type": "code",
   "execution_count": 278,
   "metadata": {},
   "outputs": [
    {
     "data": {
      "text/plain": [
       "GBR    577\n",
       "Name: country_code, dtype: int64"
      ]
     },
     "execution_count": 278,
     "metadata": {},
     "output_type": "execute_result"
    }
   ],
   "source": [
    "d2.country_code.value_counts()"
   ]
  },
  {
   "cell_type": "markdown",
   "metadata": {},
   "source": [
    "#### Total number of Investments (count) for IND"
   ]
  },
  {
   "cell_type": "code",
   "execution_count": 279,
   "metadata": {},
   "outputs": [
    {
     "data": {
      "text/plain": [
       "IND    299\n",
       "Name: country_code, dtype: int64"
      ]
     },
     "execution_count": 279,
     "metadata": {},
     "output_type": "execute_result"
    }
   ],
   "source": [
    "d3.country_code.value_counts()"
   ]
  },
  {
   "cell_type": "markdown",
   "metadata": {},
   "source": [
    "### Total amount of investment (USD)  -- In Million"
   ]
  },
  {
   "cell_type": "code",
   "execution_count": 280,
   "metadata": {},
   "outputs": [
    {
     "name": "stdout",
     "output_type": "stream",
     "text": [
      "100 Billion\n",
      "5 Billion\n",
      "3 Billion\n"
     ]
    }
   ],
   "source": [
    "print(millify(d1['raised_amount_usd'].sum())) # USA\n",
    "print(millify(d2['raised_amount_usd'].sum())) # GBR\n",
    "print(millify(d3['raised_amount_usd'].sum())) # IND"
   ]
  },
  {
   "cell_type": "markdown",
   "metadata": {},
   "source": [
    "### Total amount of investment (USD)"
   ]
  },
  {
   "cell_type": "code",
   "execution_count": 281,
   "metadata": {
    "scrolled": true
   },
   "outputs": [
    {
     "name": "stdout",
     "output_type": "stream",
     "text": [
      "99661524549.0\n",
      "5028704358.0\n",
      "2683537552.0\n"
     ]
    }
   ],
   "source": [
    "print(d1['raised_amount_usd'].sum()) # USA\n",
    "print(d2['raised_amount_usd'].sum()) # GBR\n",
    "print(d3['raised_amount_usd'].sum()) # IND"
   ]
  },
  {
   "cell_type": "markdown",
   "metadata": {},
   "source": [
    "#### For point 3 (top sector count-wise), which company received the highest investment?"
   ]
  },
  {
   "cell_type": "code",
   "execution_count": 282,
   "metadata": {
    "scrolled": true
   },
   "outputs": [
    {
     "data": {
      "text/html": [
       "<div>\n",
       "<style scoped>\n",
       "    .dataframe tbody tr th:only-of-type {\n",
       "        vertical-align: middle;\n",
       "    }\n",
       "\n",
       "    .dataframe tbody tr th {\n",
       "        vertical-align: top;\n",
       "    }\n",
       "\n",
       "    .dataframe thead th {\n",
       "        text-align: right;\n",
       "    }\n",
       "</style>\n",
       "<table border=\"1\" class=\"dataframe\">\n",
       "  <thead>\n",
       "    <tr style=\"text-align: right;\">\n",
       "      <th></th>\n",
       "      <th>name</th>\n",
       "      <th>raised_amount_usd</th>\n",
       "    </tr>\n",
       "  </thead>\n",
       "  <tbody>\n",
       "    <tr>\n",
       "      <th>210</th>\n",
       "      <td>Biodesix</td>\n",
       "      <td>75300000</td>\n",
       "    </tr>\n",
       "    <tr>\n",
       "      <th>431</th>\n",
       "      <td>ForSight Labs</td>\n",
       "      <td>61300001</td>\n",
       "    </tr>\n",
       "    <tr>\n",
       "      <th>829</th>\n",
       "      <td>Rheonix</td>\n",
       "      <td>56124758</td>\n",
       "    </tr>\n",
       "    <tr>\n",
       "      <th>12</th>\n",
       "      <td>ALung Technologies</td>\n",
       "      <td>54110403</td>\n",
       "    </tr>\n",
       "    <tr>\n",
       "      <th>615</th>\n",
       "      <td>Metabolon</td>\n",
       "      <td>52420551</td>\n",
       "    </tr>\n",
       "  </tbody>\n",
       "</table>\n",
       "</div>"
      ],
      "text/plain": [
       "                   name  raised_amount_usd\n",
       "210            Biodesix           75300000\n",
       "431       ForSight Labs           61300001\n",
       "829             Rheonix           56124758\n",
       "12   ALung Technologies           54110403\n",
       "615           Metabolon           52420551"
      ]
     },
     "execution_count": 282,
     "metadata": {},
     "output_type": "execute_result"
    }
   ],
   "source": [
    "d1_top_sect = d1[d1['primary_sector'] == 'Biotechnology'][['permalink','name','raised_amount_usd']] ## USA\n",
    "\n",
    "grouped = d1_top_sect.groupby('name').sum().reset_index()\n",
    "grouped.sort_values('raised_amount_usd', ascending=False).head()"
   ]
  },
  {
   "cell_type": "code",
   "execution_count": 283,
   "metadata": {},
   "outputs": [
    {
     "data": {
      "text/html": [
       "<div>\n",
       "<style scoped>\n",
       "    .dataframe tbody tr th:only-of-type {\n",
       "        vertical-align: middle;\n",
       "    }\n",
       "\n",
       "    .dataframe tbody tr th {\n",
       "        vertical-align: top;\n",
       "    }\n",
       "\n",
       "    .dataframe thead th {\n",
       "        text-align: right;\n",
       "    }\n",
       "</style>\n",
       "<table border=\"1\" class=\"dataframe\">\n",
       "  <thead>\n",
       "    <tr style=\"text-align: right;\">\n",
       "      <th></th>\n",
       "      <th>name</th>\n",
       "      <th>raised_amount_usd</th>\n",
       "    </tr>\n",
       "  </thead>\n",
       "  <tbody>\n",
       "    <tr>\n",
       "      <th>13</th>\n",
       "      <td>EUSA Pharma</td>\n",
       "      <td>35600000</td>\n",
       "    </tr>\n",
       "    <tr>\n",
       "      <th>19</th>\n",
       "      <td>Horizon Discovery</td>\n",
       "      <td>31353719</td>\n",
       "    </tr>\n",
       "    <tr>\n",
       "      <th>15</th>\n",
       "      <td>F-star Biotechnology Limited</td>\n",
       "      <td>29132906</td>\n",
       "    </tr>\n",
       "    <tr>\n",
       "      <th>49</th>\n",
       "      <td>Takeda Cambridge</td>\n",
       "      <td>22340000</td>\n",
       "    </tr>\n",
       "    <tr>\n",
       "      <th>21</th>\n",
       "      <td>Immune Targeting Systems</td>\n",
       "      <td>20320961</td>\n",
       "    </tr>\n",
       "  </tbody>\n",
       "</table>\n",
       "</div>"
      ],
      "text/plain": [
       "                            name  raised_amount_usd\n",
       "13                   EUSA Pharma           35600000\n",
       "19             Horizon Discovery           31353719\n",
       "15  F-star Biotechnology Limited           29132906\n",
       "49              Takeda Cambridge           22340000\n",
       "21      Immune Targeting Systems           20320961"
      ]
     },
     "execution_count": 283,
     "metadata": {},
     "output_type": "execute_result"
    }
   ],
   "source": [
    "d2_top_sect = d2[d2['primary_sector'] == 'Biotechnology'][['permalink','name','raised_amount_usd']] ## GBR\n",
    "\n",
    "grouped = d2_top_sect.groupby('name').sum().reset_index()\n",
    "grouped.sort_values('raised_amount_usd', ascending=False).head()"
   ]
  },
  {
   "cell_type": "code",
   "execution_count": 284,
   "metadata": {},
   "outputs": [
    {
     "data": {
      "text/html": [
       "<div>\n",
       "<style scoped>\n",
       "    .dataframe tbody tr th:only-of-type {\n",
       "        vertical-align: middle;\n",
       "    }\n",
       "\n",
       "    .dataframe tbody tr th {\n",
       "        vertical-align: top;\n",
       "    }\n",
       "\n",
       "    .dataframe thead th {\n",
       "        text-align: right;\n",
       "    }\n",
       "</style>\n",
       "<table border=\"1\" class=\"dataframe\">\n",
       "  <thead>\n",
       "    <tr style=\"text-align: right;\">\n",
       "      <th></th>\n",
       "      <th>name</th>\n",
       "      <th>raised_amount_usd</th>\n",
       "    </tr>\n",
       "  </thead>\n",
       "  <tbody>\n",
       "    <tr>\n",
       "      <th>5</th>\n",
       "      <td>FirstCry.com</td>\n",
       "      <td>39000000</td>\n",
       "    </tr>\n",
       "    <tr>\n",
       "      <th>10</th>\n",
       "      <td>Myntra</td>\n",
       "      <td>38000000</td>\n",
       "    </tr>\n",
       "    <tr>\n",
       "      <th>14</th>\n",
       "      <td>Pepperfry.com</td>\n",
       "      <td>28000000</td>\n",
       "    </tr>\n",
       "    <tr>\n",
       "      <th>2</th>\n",
       "      <td>CaratLane</td>\n",
       "      <td>21000000</td>\n",
       "    </tr>\n",
       "    <tr>\n",
       "      <th>15</th>\n",
       "      <td>Roposo</td>\n",
       "      <td>20000000</td>\n",
       "    </tr>\n",
       "  </tbody>\n",
       "</table>\n",
       "</div>"
      ],
      "text/plain": [
       "             name  raised_amount_usd\n",
       "5    FirstCry.com           39000000\n",
       "10         Myntra           38000000\n",
       "14  Pepperfry.com           28000000\n",
       "2       CaratLane           21000000\n",
       "15         Roposo           20000000"
      ]
     },
     "execution_count": 284,
     "metadata": {},
     "output_type": "execute_result"
    }
   ],
   "source": [
    "d3_top_sect = d3[d3['primary_sector'] == 'E-Commerce'][['permalink','name','raised_amount_usd']] ## IND\n",
    "\n",
    "grouped = d3_top_sect.groupby('name').sum().reset_index()\n",
    "grouped.sort_values('raised_amount_usd', ascending=False).head()"
   ]
  },
  {
   "cell_type": "markdown",
   "metadata": {},
   "source": [
    "#### For point 4 (second best sector count-wise), which company received the 2nd highest investment?"
   ]
  },
  {
   "cell_type": "code",
   "execution_count": 285,
   "metadata": {},
   "outputs": [
    {
     "data": {
      "text/html": [
       "<div>\n",
       "<style scoped>\n",
       "    .dataframe tbody tr th:only-of-type {\n",
       "        vertical-align: middle;\n",
       "    }\n",
       "\n",
       "    .dataframe tbody tr th {\n",
       "        vertical-align: top;\n",
       "    }\n",
       "\n",
       "    .dataframe thead th {\n",
       "        text-align: right;\n",
       "    }\n",
       "</style>\n",
       "<table border=\"1\" class=\"dataframe\">\n",
       "  <thead>\n",
       "    <tr style=\"text-align: right;\">\n",
       "      <th></th>\n",
       "      <th>name</th>\n",
       "      <th>raised_amount_usd</th>\n",
       "    </tr>\n",
       "  </thead>\n",
       "  <tbody>\n",
       "    <tr>\n",
       "      <th>65</th>\n",
       "      <td>BTI Systems</td>\n",
       "      <td>48000000</td>\n",
       "    </tr>\n",
       "    <tr>\n",
       "      <th>155</th>\n",
       "      <td>Convio</td>\n",
       "      <td>42750000</td>\n",
       "    </tr>\n",
       "    <tr>\n",
       "      <th>556</th>\n",
       "      <td>ScienceLogic</td>\n",
       "      <td>41000000</td>\n",
       "    </tr>\n",
       "    <tr>\n",
       "      <th>701</th>\n",
       "      <td>Vyatta</td>\n",
       "      <td>40800000</td>\n",
       "    </tr>\n",
       "    <tr>\n",
       "      <th>370</th>\n",
       "      <td>Mantara</td>\n",
       "      <td>40399999</td>\n",
       "    </tr>\n",
       "  </tbody>\n",
       "</table>\n",
       "</div>"
      ],
      "text/plain": [
       "             name  raised_amount_usd\n",
       "65    BTI Systems           48000000\n",
       "155        Convio           42750000\n",
       "556  ScienceLogic           41000000\n",
       "701        Vyatta           40800000\n",
       "370       Mantara           40399999"
      ]
     },
     "execution_count": 285,
     "metadata": {},
     "output_type": "execute_result"
    }
   ],
   "source": [
    "d1_2nd_sect = d1[d1['primary_sector'] == 'Software'][['permalink','name','raised_amount_usd']] ## USA\n",
    "\n",
    "grouped = d1_2nd_sect.groupby('name').sum().reset_index()\n",
    "grouped.sort_values('raised_amount_usd', ascending=False).head()"
   ]
  },
  {
   "cell_type": "code",
   "execution_count": 286,
   "metadata": {},
   "outputs": [
    {
     "data": {
      "text/html": [
       "<div>\n",
       "<style scoped>\n",
       "    .dataframe tbody tr th:only-of-type {\n",
       "        vertical-align: middle;\n",
       "    }\n",
       "\n",
       "    .dataframe tbody tr th {\n",
       "        vertical-align: top;\n",
       "    }\n",
       "\n",
       "    .dataframe thead th {\n",
       "        text-align: right;\n",
       "    }\n",
       "</style>\n",
       "<table border=\"1\" class=\"dataframe\">\n",
       "  <thead>\n",
       "    <tr style=\"text-align: right;\">\n",
       "      <th></th>\n",
       "      <th>name</th>\n",
       "      <th>raised_amount_usd</th>\n",
       "    </tr>\n",
       "  </thead>\n",
       "  <tbody>\n",
       "    <tr>\n",
       "      <th>10</th>\n",
       "      <td>Electric Cloud</td>\n",
       "      <td>37000000</td>\n",
       "    </tr>\n",
       "    <tr>\n",
       "      <th>26</th>\n",
       "      <td>Tribold</td>\n",
       "      <td>26000000</td>\n",
       "    </tr>\n",
       "    <tr>\n",
       "      <th>33</th>\n",
       "      <td>ip.access</td>\n",
       "      <td>25000000</td>\n",
       "    </tr>\n",
       "    <tr>\n",
       "      <th>9</th>\n",
       "      <td>Eglue Business Technologies</td>\n",
       "      <td>22000000</td>\n",
       "    </tr>\n",
       "    <tr>\n",
       "      <th>16</th>\n",
       "      <td>Njini</td>\n",
       "      <td>18000000</td>\n",
       "    </tr>\n",
       "  </tbody>\n",
       "</table>\n",
       "</div>"
      ],
      "text/plain": [
       "                           name  raised_amount_usd\n",
       "10               Electric Cloud           37000000\n",
       "26                      Tribold           26000000\n",
       "33                    ip.access           25000000\n",
       "9   Eglue Business Technologies           22000000\n",
       "16                        Njini           18000000"
      ]
     },
     "execution_count": 286,
     "metadata": {},
     "output_type": "execute_result"
    }
   ],
   "source": [
    "d2_2nd_sect = d2[d2['primary_sector'] == 'Software'][['permalink','name','raised_amount_usd']] ## GBR\n",
    "\n",
    "grouped = d2_2nd_sect.groupby('name').sum().reset_index()\n",
    "grouped.sort_values('raised_amount_usd', ascending=False).head()"
   ]
  },
  {
   "cell_type": "code",
   "execution_count": 287,
   "metadata": {
    "scrolled": true
   },
   "outputs": [
    {
     "data": {
      "text/html": [
       "<div>\n",
       "<style scoped>\n",
       "    .dataframe tbody tr th:only-of-type {\n",
       "        vertical-align: middle;\n",
       "    }\n",
       "\n",
       "    .dataframe tbody tr th {\n",
       "        vertical-align: top;\n",
       "    }\n",
       "\n",
       "    .dataframe thead th {\n",
       "        text-align: right;\n",
       "    }\n",
       "</style>\n",
       "<table border=\"1\" class=\"dataframe\">\n",
       "  <thead>\n",
       "    <tr style=\"text-align: right;\">\n",
       "      <th></th>\n",
       "      <th>name</th>\n",
       "      <th>raised_amount_usd</th>\n",
       "    </tr>\n",
       "  </thead>\n",
       "  <tbody>\n",
       "    <tr>\n",
       "      <th>13</th>\n",
       "      <td>NxtGen Data Center &amp; Cloud Services</td>\n",
       "      <td>22300000</td>\n",
       "    </tr>\n",
       "    <tr>\n",
       "      <th>7</th>\n",
       "      <td>EximSoft-Trianz</td>\n",
       "      <td>14000000</td>\n",
       "    </tr>\n",
       "    <tr>\n",
       "      <th>15</th>\n",
       "      <td>Quick Heal Technologies</td>\n",
       "      <td>13000000</td>\n",
       "    </tr>\n",
       "    <tr>\n",
       "      <th>6</th>\n",
       "      <td>Elitecore Technologies</td>\n",
       "      <td>10300000</td>\n",
       "    </tr>\n",
       "    <tr>\n",
       "      <th>5</th>\n",
       "      <td>Cooptions Technologies</td>\n",
       "      <td>10000000</td>\n",
       "    </tr>\n",
       "  </tbody>\n",
       "</table>\n",
       "</div>"
      ],
      "text/plain": [
       "                                   name  raised_amount_usd\n",
       "13  NxtGen Data Center & Cloud Services           22300000\n",
       "7                       EximSoft-Trianz           14000000\n",
       "15              Quick Heal Technologies           13000000\n",
       "6                Elitecore Technologies           10300000\n",
       "5                Cooptions Technologies           10000000"
      ]
     },
     "execution_count": 287,
     "metadata": {},
     "output_type": "execute_result"
    }
   ],
   "source": [
    "d3_2nd_sect = d3[d3['primary_sector'] == 'Software'][['permalink','name','raised_amount_usd']] ## IND\n",
    "\n",
    "grouped = d3_2nd_sect.groupby('name').sum().reset_index()\n",
    "grouped.sort_values('raised_amount_usd', ascending=False).head()"
   ]
  },
  {
   "cell_type": "markdown",
   "metadata": {},
   "source": [
    "## Checkpoint 6: Plots"
   ]
  },
  {
   "cell_type": "markdown",
   "metadata": {},
   "source": [
    "### A plot showing the representative amount of investment in each funding type. This chart should make it clear that a certain funding type (FT) is best suited for Spark Funds."
   ]
  },
  {
   "cell_type": "code",
   "execution_count": 288,
   "metadata": {},
   "outputs": [],
   "source": [
    "master_frame_plot = pd.merge(companies,rounds2,how = 'inner', left_on = companies.permalink, right_on = rounds2.company_permalink)"
   ]
  },
  {
   "cell_type": "code",
   "execution_count": 289,
   "metadata": {},
   "outputs": [
    {
     "data": {
      "text/plain": [
       "key_0                          0\n",
       "permalink                      0\n",
       "name                           1\n",
       "homepage_url                4332\n",
       "category_list               1044\n",
       "status                         0\n",
       "country_code                5851\n",
       "state_code                  7604\n",
       "region                      7048\n",
       "city                        7045\n",
       "founded_at                 15966\n",
       "company_permalink              0\n",
       "funding_round_permalink        0\n",
       "funding_round_type             0\n",
       "funded_at                      0\n",
       "raised_amount_usd              0\n",
       "dtype: int64"
      ]
     },
     "execution_count": 289,
     "metadata": {},
     "output_type": "execute_result"
    }
   ],
   "source": [
    "master_frame_plot.isnull().sum()"
   ]
  },
  {
   "cell_type": "code",
   "execution_count": 290,
   "metadata": {
    "scrolled": false
   },
   "outputs": [
    {
     "name": "stdout",
     "output_type": "stream",
     "text": [
      "<class 'pandas.core.frame.DataFrame'>\n",
      "Int64Index: 94959 entries, 0 to 94958\n",
      "Data columns (total 16 columns):\n",
      " #   Column                   Non-Null Count  Dtype  \n",
      "---  ------                   --------------  -----  \n",
      " 0   key_0                    94959 non-null  object \n",
      " 1   permalink                94959 non-null  object \n",
      " 2   name                     94958 non-null  object \n",
      " 3   homepage_url             90627 non-null  object \n",
      " 4   category_list            93915 non-null  object \n",
      " 5   status                   94959 non-null  object \n",
      " 6   country_code             89108 non-null  object \n",
      " 7   state_code               87355 non-null  object \n",
      " 8   region                   87911 non-null  object \n",
      " 9   city                     87914 non-null  object \n",
      " 10  founded_at               78993 non-null  object \n",
      " 11  company_permalink        94959 non-null  object \n",
      " 12  funding_round_permalink  94959 non-null  object \n",
      " 13  funding_round_type       94959 non-null  object \n",
      " 14  funded_at                94959 non-null  object \n",
      " 15  raised_amount_usd        94959 non-null  float64\n",
      "dtypes: float64(1), object(15)\n",
      "memory usage: 12.3+ MB\n"
     ]
    }
   ],
   "source": [
    "master_frame_plot.info()"
   ]
  },
  {
   "cell_type": "code",
   "execution_count": 291,
   "metadata": {},
   "outputs": [],
   "source": [
    "master_frame_plot= master_frame_plot[master_frame_plot.funding_round_type.isin(['venture', 'angel', 'seed','private_equity'])]"
   ]
  },
  {
   "cell_type": "code",
   "execution_count": 292,
   "metadata": {},
   "outputs": [],
   "source": [
    "master_frame_ft_group = master_frame_plot.groupby('funding_round_type').median().sort_values(by='raised_amount_usd',ascending=False)"
   ]
  },
  {
   "cell_type": "code",
   "execution_count": 293,
   "metadata": {},
   "outputs": [
    {
     "data": {
      "text/html": [
       "<div>\n",
       "<style scoped>\n",
       "    .dataframe tbody tr th:only-of-type {\n",
       "        vertical-align: middle;\n",
       "    }\n",
       "\n",
       "    .dataframe tbody tr th {\n",
       "        vertical-align: top;\n",
       "    }\n",
       "\n",
       "    .dataframe thead th {\n",
       "        text-align: right;\n",
       "    }\n",
       "</style>\n",
       "<table border=\"1\" class=\"dataframe\">\n",
       "  <thead>\n",
       "    <tr style=\"text-align: right;\">\n",
       "      <th></th>\n",
       "      <th>raised_amount_usd</th>\n",
       "    </tr>\n",
       "    <tr>\n",
       "      <th>funding_round_type</th>\n",
       "      <th></th>\n",
       "    </tr>\n",
       "  </thead>\n",
       "  <tbody>\n",
       "    <tr>\n",
       "      <th>private_equity</th>\n",
       "      <td>20000000</td>\n",
       "    </tr>\n",
       "    <tr>\n",
       "      <th>venture</th>\n",
       "      <td>5000000</td>\n",
       "    </tr>\n",
       "    <tr>\n",
       "      <th>angel</th>\n",
       "      <td>400000</td>\n",
       "    </tr>\n",
       "    <tr>\n",
       "      <th>seed</th>\n",
       "      <td>275000</td>\n",
       "    </tr>\n",
       "  </tbody>\n",
       "</table>\n",
       "</div>"
      ],
      "text/plain": [
       "                    raised_amount_usd\n",
       "funding_round_type                   \n",
       "private_equity               20000000\n",
       "venture                       5000000\n",
       "angel                          400000\n",
       "seed                           275000"
      ]
     },
     "execution_count": 293,
     "metadata": {},
     "output_type": "execute_result"
    }
   ],
   "source": [
    "master_frame_ft_group"
   ]
  },
  {
   "cell_type": "code",
   "execution_count": 294,
   "metadata": {
    "scrolled": false
   },
   "outputs": [
    {
     "data": {
      "image/png": "[encoded data removed]",
      "text/plain": [
       "<Figure size 720x576 with 1 Axes>"
      ]
     },
     "metadata": {
      "needs_background": "light"
     },
     "output_type": "display_data"
    }
   ],
   "source": [
    "plt.figure(figsize = (10,8))\n",
    "objects = master_frame_ft_group['raised_amount_usd']\n",
    "y_pos = np.arange(len(objects))\n",
    "sns.barplot(y_pos, master_frame_ft_group['raised_amount_usd'])\n",
    "plt.xticks(y_pos, master_frame_ft_group.index)\n",
    "plt.ylabel('Investment amount in 10M')\n",
    "plt.xlabel('Fund Types')\n",
    "plt.title('Average Investments Made By Fund Types')\n",
    "plt.show()"
   ]
  },
  {
   "cell_type": "markdown",
   "metadata": {},
   "source": [
    "### By the above chart we can identify is Venture Funds have Median investment of around 5 Million which is exactly suitable for Spark Funds"
   ]
  },
  {
   "cell_type": "markdown",
   "metadata": {},
   "source": [
    "## A plot showing the top 9 countries against the total amount of investments of funding type FT. This should make the top 3 countries (Country 1, Country 2, and Country 3) very clear."
   ]
  },
  {
   "cell_type": "code",
   "execution_count": 295,
   "metadata": {},
   "outputs": [
    {
     "data": {
      "image/png": "[encoded data removed]",
      "text/plain": [
       "<Figure size 1080x576 with 1 Axes>"
      ]
     },
     "metadata": {
      "needs_background": "light"
     },
     "output_type": "display_data"
    }
   ],
   "source": [
    "plt.figure (figsize=(15,8))\n",
    "x_axis = country_wise_total.head(9).index\n",
    "y_axis = country_wise_total.head(9).values/100000000\n",
    "# objects = country_wise_total.head(9).values\n",
    "# y_axis = np.arange(len(objects))\n",
    "sns.barplot(x = x_axis, y = y_axis,)\n",
    "plt.xlabel('Countries')\n",
    "plt.ylabel('Total Investments in 100 Million')\n",
    "plt.yscale('log')\n",
    "plt.title('Top 9 Countries with Total Investment')\n",
    "plt.show()"
   ]
  },
  {
   "cell_type": "markdown",
   "metadata": {},
   "source": [
    "### By above visuals we can conclude that USA, Great Britan & India are the 3 most heavly invested English speaking countries "
   ]
  },
  {
   "cell_type": "markdown",
   "metadata": {},
   "source": [
    "## A plot showing the number of investments in the top 3 sectors of the top 3 countries on one chart (for the chosen investment type FT). This plot should clearly display the top 3 sectors each in Country 1, Country 2, and Country 3."
   ]
  },
  {
   "cell_type": "code",
   "execution_count": 296,
   "metadata": {},
   "outputs": [
    {
     "data": {
      "text/html": [
       "<div>\n",
       "<style scoped>\n",
       "    .dataframe tbody tr th:only-of-type {\n",
       "        vertical-align: middle;\n",
       "    }\n",
       "\n",
       "    .dataframe tbody tr th {\n",
       "        vertical-align: top;\n",
       "    }\n",
       "\n",
       "    .dataframe thead th {\n",
       "        text-align: right;\n",
       "    }\n",
       "</style>\n",
       "<table border=\"1\" class=\"dataframe\">\n",
       "  <thead>\n",
       "    <tr style=\"text-align: right;\">\n",
       "      <th></th>\n",
       "      <th>permalink</th>\n",
       "      <th>name</th>\n",
       "      <th>status</th>\n",
       "      <th>country_code</th>\n",
       "      <th>funding_round_type</th>\n",
       "      <th>funded_at</th>\n",
       "      <th>raised_amount_usd</th>\n",
       "      <th>primary_sector</th>\n",
       "      <th>Automotive &amp; Sports</th>\n",
       "      <th>Blanks</th>\n",
       "      <th>Cleantech / Semiconductors</th>\n",
       "      <th>Entertainment</th>\n",
       "      <th>Health</th>\n",
       "      <th>Manufacturing</th>\n",
       "      <th>News, Search and Messaging</th>\n",
       "      <th>Others</th>\n",
       "      <th>Social, Finance, Analytics, Advertising</th>\n",
       "    </tr>\n",
       "  </thead>\n",
       "  <tbody>\n",
       "    <tr>\n",
       "      <th>90</th>\n",
       "      <td>/organization/abilto</td>\n",
       "      <td>AbilTo</td>\n",
       "      <td>operating</td>\n",
       "      <td>USA</td>\n",
       "      <td>venture</td>\n",
       "      <td>18-03-2014</td>\n",
       "      <td>6000000</td>\n",
       "      <td>Curated Web</td>\n",
       "      <td>0</td>\n",
       "      <td>0</td>\n",
       "      <td>0</td>\n",
       "      <td>0</td>\n",
       "      <td>0</td>\n",
       "      <td>0</td>\n",
       "      <td>1</td>\n",
       "      <td>0</td>\n",
       "      <td>0</td>\n",
       "    </tr>\n",
       "    <tr>\n",
       "      <th>91</th>\n",
       "      <td>/organization/abilto</td>\n",
       "      <td>AbilTo</td>\n",
       "      <td>operating</td>\n",
       "      <td>USA</td>\n",
       "      <td>venture</td>\n",
       "      <td>09-06-2015</td>\n",
       "      <td>12000000</td>\n",
       "      <td>Curated Web</td>\n",
       "      <td>0</td>\n",
       "      <td>0</td>\n",
       "      <td>0</td>\n",
       "      <td>0</td>\n",
       "      <td>0</td>\n",
       "      <td>0</td>\n",
       "      <td>1</td>\n",
       "      <td>0</td>\n",
       "      <td>0</td>\n",
       "    </tr>\n",
       "    <tr>\n",
       "      <th>93</th>\n",
       "      <td>/organization/abine</td>\n",
       "      <td>Abine</td>\n",
       "      <td>operating</td>\n",
       "      <td>USA</td>\n",
       "      <td>venture</td>\n",
       "      <td>12-07-2011</td>\n",
       "      <td>6467283</td>\n",
       "      <td>Curated Web</td>\n",
       "      <td>0</td>\n",
       "      <td>0</td>\n",
       "      <td>0</td>\n",
       "      <td>0</td>\n",
       "      <td>0</td>\n",
       "      <td>0</td>\n",
       "      <td>1</td>\n",
       "      <td>0</td>\n",
       "      <td>0</td>\n",
       "    </tr>\n",
       "    <tr>\n",
       "      <th>94</th>\n",
       "      <td>/organization/aboutme</td>\n",
       "      <td>about.me</td>\n",
       "      <td>operating</td>\n",
       "      <td>USA</td>\n",
       "      <td>venture</td>\n",
       "      <td>10-06-2014</td>\n",
       "      <td>11000000</td>\n",
       "      <td>Curated Web</td>\n",
       "      <td>0</td>\n",
       "      <td>0</td>\n",
       "      <td>0</td>\n",
       "      <td>0</td>\n",
       "      <td>0</td>\n",
       "      <td>0</td>\n",
       "      <td>1</td>\n",
       "      <td>0</td>\n",
       "      <td>0</td>\n",
       "    </tr>\n",
       "    <tr>\n",
       "      <th>95</th>\n",
       "      <td>/organization/aboutme</td>\n",
       "      <td>about.me</td>\n",
       "      <td>operating</td>\n",
       "      <td>USA</td>\n",
       "      <td>venture</td>\n",
       "      <td>05-02-2013</td>\n",
       "      <td>5675000</td>\n",
       "      <td>Curated Web</td>\n",
       "      <td>0</td>\n",
       "      <td>0</td>\n",
       "      <td>0</td>\n",
       "      <td>0</td>\n",
       "      <td>0</td>\n",
       "      <td>0</td>\n",
       "      <td>1</td>\n",
       "      <td>0</td>\n",
       "      <td>0</td>\n",
       "    </tr>\n",
       "    <tr>\n",
       "      <th>...</th>\n",
       "      <td>...</td>\n",
       "      <td>...</td>\n",
       "      <td>...</td>\n",
       "      <td>...</td>\n",
       "      <td>...</td>\n",
       "      <td>...</td>\n",
       "      <td>...</td>\n",
       "      <td>...</td>\n",
       "      <td>...</td>\n",
       "      <td>...</td>\n",
       "      <td>...</td>\n",
       "      <td>...</td>\n",
       "      <td>...</td>\n",
       "      <td>...</td>\n",
       "      <td>...</td>\n",
       "      <td>...</td>\n",
       "      <td>...</td>\n",
       "    </tr>\n",
       "    <tr>\n",
       "      <th>24077</th>\n",
       "      <td>/organization/zoove</td>\n",
       "      <td>Zoove</td>\n",
       "      <td>acquired</td>\n",
       "      <td>USA</td>\n",
       "      <td>venture</td>\n",
       "      <td>20-10-2011</td>\n",
       "      <td>5000000</td>\n",
       "      <td>Advertising</td>\n",
       "      <td>0</td>\n",
       "      <td>0</td>\n",
       "      <td>0</td>\n",
       "      <td>0</td>\n",
       "      <td>0</td>\n",
       "      <td>0</td>\n",
       "      <td>0</td>\n",
       "      <td>0</td>\n",
       "      <td>1</td>\n",
       "    </tr>\n",
       "    <tr>\n",
       "      <th>24078</th>\n",
       "      <td>/organization/zoove</td>\n",
       "      <td>Zoove</td>\n",
       "      <td>acquired</td>\n",
       "      <td>USA</td>\n",
       "      <td>venture</td>\n",
       "      <td>20-06-2006</td>\n",
       "      <td>6800000</td>\n",
       "      <td>Advertising</td>\n",
       "      <td>0</td>\n",
       "      <td>0</td>\n",
       "      <td>0</td>\n",
       "      <td>0</td>\n",
       "      <td>0</td>\n",
       "      <td>0</td>\n",
       "      <td>0</td>\n",
       "      <td>0</td>\n",
       "      <td>1</td>\n",
       "    </tr>\n",
       "    <tr>\n",
       "      <th>24080</th>\n",
       "      <td>/organization/zoove</td>\n",
       "      <td>Zoove</td>\n",
       "      <td>acquired</td>\n",
       "      <td>USA</td>\n",
       "      <td>venture</td>\n",
       "      <td>15-09-2009</td>\n",
       "      <td>13000000</td>\n",
       "      <td>Advertising</td>\n",
       "      <td>0</td>\n",
       "      <td>0</td>\n",
       "      <td>0</td>\n",
       "      <td>0</td>\n",
       "      <td>0</td>\n",
       "      <td>0</td>\n",
       "      <td>0</td>\n",
       "      <td>0</td>\n",
       "      <td>1</td>\n",
       "    </tr>\n",
       "    <tr>\n",
       "      <th>24082</th>\n",
       "      <td>/organization/zoove</td>\n",
       "      <td>Zoove</td>\n",
       "      <td>acquired</td>\n",
       "      <td>USA</td>\n",
       "      <td>venture</td>\n",
       "      <td>14-05-2013</td>\n",
       "      <td>15000000</td>\n",
       "      <td>Advertising</td>\n",
       "      <td>0</td>\n",
       "      <td>0</td>\n",
       "      <td>0</td>\n",
       "      <td>0</td>\n",
       "      <td>0</td>\n",
       "      <td>0</td>\n",
       "      <td>0</td>\n",
       "      <td>0</td>\n",
       "      <td>1</td>\n",
       "    </tr>\n",
       "    <tr>\n",
       "      <th>24083</th>\n",
       "      <td>/organization/zuberance</td>\n",
       "      <td>Zuberance</td>\n",
       "      <td>operating</td>\n",
       "      <td>USA</td>\n",
       "      <td>venture</td>\n",
       "      <td>26-10-2010</td>\n",
       "      <td>8000000</td>\n",
       "      <td>Advertising</td>\n",
       "      <td>0</td>\n",
       "      <td>0</td>\n",
       "      <td>0</td>\n",
       "      <td>0</td>\n",
       "      <td>0</td>\n",
       "      <td>0</td>\n",
       "      <td>0</td>\n",
       "      <td>0</td>\n",
       "      <td>1</td>\n",
       "    </tr>\n",
       "  </tbody>\n",
       "</table>\n",
       "<p>4077 rows × 17 columns</p>\n",
       "</div>"
      ],
      "text/plain": [
       "                     permalink       name     status country_code  \\\n",
       "90        /organization/abilto     AbilTo  operating          USA   \n",
       "91        /organization/abilto     AbilTo  operating          USA   \n",
       "93         /organization/abine      Abine  operating          USA   \n",
       "94       /organization/aboutme   about.me  operating          USA   \n",
       "95       /organization/aboutme   about.me  operating          USA   \n",
       "...                        ...        ...        ...          ...   \n",
       "24077      /organization/zoove      Zoove   acquired          USA   \n",
       "24078      /organization/zoove      Zoove   acquired          USA   \n",
       "24080      /organization/zoove      Zoove   acquired          USA   \n",
       "24082      /organization/zoove      Zoove   acquired          USA   \n",
       "24083  /organization/zuberance  Zuberance  operating          USA   \n",
       "\n",
       "      funding_round_type   funded_at  raised_amount_usd primary_sector  \\\n",
       "90               venture  18-03-2014            6000000    Curated Web   \n",
       "91               venture  09-06-2015           12000000    Curated Web   \n",
       "93               venture  12-07-2011            6467283    Curated Web   \n",
       "94               venture  10-06-2014           11000000    Curated Web   \n",
       "95               venture  05-02-2013            5675000    Curated Web   \n",
       "...                  ...         ...                ...            ...   \n",
       "24077            venture  20-10-2011            5000000    Advertising   \n",
       "24078            venture  20-06-2006            6800000    Advertising   \n",
       "24080            venture  15-09-2009           13000000    Advertising   \n",
       "24082            venture  14-05-2013           15000000    Advertising   \n",
       "24083            venture  26-10-2010            8000000    Advertising   \n",
       "\n",
       "       Automotive & Sports  Blanks  Cleantech / Semiconductors  Entertainment  \\\n",
       "90                       0       0                           0              0   \n",
       "91                       0       0                           0              0   \n",
       "93                       0       0                           0              0   \n",
       "94                       0       0                           0              0   \n",
       "95                       0       0                           0              0   \n",
       "...                    ...     ...                         ...            ...   \n",
       "24077                    0       0                           0              0   \n",
       "24078                    0       0                           0              0   \n",
       "24080                    0       0                           0              0   \n",
       "24082                    0       0                           0              0   \n",
       "24083                    0       0                           0              0   \n",
       "\n",
       "       Health  Manufacturing  News, Search and Messaging  Others  \\\n",
       "90          0              0                           1       0   \n",
       "91          0              0                           1       0   \n",
       "93          0              0                           1       0   \n",
       "94          0              0                           1       0   \n",
       "95          0              0                           1       0   \n",
       "...       ...            ...                         ...     ...   \n",
       "24077       0              0                           0       0   \n",
       "24078       0              0                           0       0   \n",
       "24080       0              0                           0       0   \n",
       "24082       0              0                           0       0   \n",
       "24083       0              0                           0       0   \n",
       "\n",
       "       Social, Finance, Analytics, Advertising  \n",
       "90                                           0  \n",
       "91                                           0  \n",
       "93                                           0  \n",
       "94                                           0  \n",
       "95                                           0  \n",
       "...                                        ...  \n",
       "24077                                        1  \n",
       "24078                                        1  \n",
       "24080                                        1  \n",
       "24082                                        1  \n",
       "24083                                        1  \n",
       "\n",
       "[4077 rows x 17 columns]"
      ]
     },
     "execution_count": 296,
     "metadata": {},
     "output_type": "execute_result"
    }
   ],
   "source": [
    "# Top 3 country filtered by top 5 sectors\n",
    "\n",
    "top3_country_sector = top3_country[top3_country.primary_sector.isin(['Biotechnology'\n",
    "                                                         ,'Software'\n",
    "                                                         ,'Advertising'\n",
    "                                                         ,'E-Commerce'\n",
    "                                                         ,'Curated Web'\n",
    "                                                        ])\n",
    "                      ]\n",
    "top3_country_sector"
   ]
  },
  {
   "cell_type": "code",
   "execution_count": 297,
   "metadata": {
    "scrolled": true
   },
   "outputs": [
    {
     "data": {
      "text/html": [
       "<div>\n",
       "<style scoped>\n",
       "    .dataframe tbody tr th:only-of-type {\n",
       "        vertical-align: middle;\n",
       "    }\n",
       "\n",
       "    .dataframe tbody tr th {\n",
       "        vertical-align: top;\n",
       "    }\n",
       "\n",
       "    .dataframe thead th {\n",
       "        text-align: right;\n",
       "    }\n",
       "</style>\n",
       "<table border=\"1\" class=\"dataframe\">\n",
       "  <thead>\n",
       "    <tr style=\"text-align: right;\">\n",
       "      <th>primary_sector</th>\n",
       "      <th>Advertising</th>\n",
       "      <th>Biotechnology</th>\n",
       "      <th>Curated Web</th>\n",
       "      <th>E-Commerce</th>\n",
       "      <th>Software</th>\n",
       "    </tr>\n",
       "    <tr>\n",
       "      <th>country_code</th>\n",
       "      <th></th>\n",
       "      <th></th>\n",
       "      <th></th>\n",
       "      <th></th>\n",
       "      <th></th>\n",
       "    </tr>\n",
       "  </thead>\n",
       "  <tbody>\n",
       "    <tr>\n",
       "      <th>GBR</th>\n",
       "      <td>306794581</td>\n",
       "      <td>636958624</td>\n",
       "      <td>127476377</td>\n",
       "      <td>262637742</td>\n",
       "      <td>383817324</td>\n",
       "    </tr>\n",
       "    <tr>\n",
       "      <th>IND</th>\n",
       "      <td>50000000</td>\n",
       "      <td>73530000</td>\n",
       "      <td>110178770</td>\n",
       "      <td>343869507</td>\n",
       "      <td>163050000</td>\n",
       "    </tr>\n",
       "    <tr>\n",
       "      <th>USA</th>\n",
       "      <td>5870184347</td>\n",
       "      <td>13406336046</td>\n",
       "      <td>2604010608</td>\n",
       "      <td>2381508892</td>\n",
       "      <td>9125717374</td>\n",
       "    </tr>\n",
       "  </tbody>\n",
       "</table>\n",
       "</div>"
      ],
      "text/plain": [
       "primary_sector  Advertising  Biotechnology  Curated Web  E-Commerce   Software\n",
       "country_code                                                                  \n",
       "GBR               306794581      636958624    127476377   262637742  383817324\n",
       "IND                50000000       73530000    110178770   343869507  163050000\n",
       "USA              5870184347    13406336046   2604010608  2381508892 9125717374"
      ]
     },
     "execution_count": 297,
     "metadata": {},
     "output_type": "execute_result"
    }
   ],
   "source": [
    "top3_country_sector_pivot = pd.pivot_table(data = top3_country_sector, index = \"country_code\"\n",
    "                                           ,columns = \"primary_sector\"\n",
    "                                           ,values = \"raised_amount_usd\",aggfunc = sum)\n",
    "top3_country_sector_pivot"
   ]
  },
  {
   "cell_type": "code",
   "execution_count": 298,
   "metadata": {},
   "outputs": [
    {
     "data": {
      "text/html": [
       "<div>\n",
       "<style scoped>\n",
       "    .dataframe tbody tr th:only-of-type {\n",
       "        vertical-align: middle;\n",
       "    }\n",
       "\n",
       "    .dataframe tbody tr th {\n",
       "        vertical-align: top;\n",
       "    }\n",
       "\n",
       "    .dataframe thead th {\n",
       "        text-align: right;\n",
       "    }\n",
       "</style>\n",
       "<table border=\"1\" class=\"dataframe\">\n",
       "  <thead>\n",
       "    <tr style=\"text-align: right;\">\n",
       "      <th>primary_sector</th>\n",
       "      <th>Advertising</th>\n",
       "      <th>Biotechnology</th>\n",
       "      <th>Curated Web</th>\n",
       "      <th>E-Commerce</th>\n",
       "      <th>Software</th>\n",
       "    </tr>\n",
       "    <tr>\n",
       "      <th>country_code</th>\n",
       "      <th></th>\n",
       "      <th></th>\n",
       "      <th></th>\n",
       "      <th></th>\n",
       "      <th></th>\n",
       "    </tr>\n",
       "  </thead>\n",
       "  <tbody>\n",
       "    <tr>\n",
       "      <th>GBR</th>\n",
       "      <td>306794581</td>\n",
       "      <td>636958624</td>\n",
       "      <td>127476377</td>\n",
       "      <td>262637742</td>\n",
       "      <td>383817324</td>\n",
       "    </tr>\n",
       "    <tr>\n",
       "      <th>IND</th>\n",
       "      <td>50000000</td>\n",
       "      <td>73530000</td>\n",
       "      <td>110178770</td>\n",
       "      <td>343869507</td>\n",
       "      <td>163050000</td>\n",
       "    </tr>\n",
       "    <tr>\n",
       "      <th>USA</th>\n",
       "      <td>5870184347</td>\n",
       "      <td>13406336046</td>\n",
       "      <td>2604010608</td>\n",
       "      <td>2381508892</td>\n",
       "      <td>9125717374</td>\n",
       "    </tr>\n",
       "  </tbody>\n",
       "</table>\n",
       "</div>"
      ],
      "text/plain": [
       "primary_sector  Advertising  Biotechnology  Curated Web  E-Commerce   Software\n",
       "country_code                                                                  \n",
       "GBR               306794581      636958624    127476377   262637742  383817324\n",
       "IND                50000000       73530000    110178770   343869507  163050000\n",
       "USA              5870184347    13406336046   2604010608  2381508892 9125717374"
      ]
     },
     "execution_count": 298,
     "metadata": {},
     "output_type": "execute_result"
    }
   ],
   "source": [
    "usa_sector_pivot = pd.pivot_table(data = top3_country_sector, index = \"country_code\"\n",
    "                                           ,columns = \"primary_sector\"\n",
    "                                           ,values = \"raised_amount_usd\",aggfunc = sum)\n",
    "top3_country_sector_pivot"
   ]
  },
  {
   "cell_type": "code",
   "execution_count": 299,
   "metadata": {},
   "outputs": [
    {
     "data": {
      "image/png": "[encoded data removed]",
      "text/plain": [
       "<Figure size 576x432 with 1 Axes>"
      ]
     },
     "metadata": {
      "needs_background": "light"
     },
     "output_type": "display_data"
    }
   ],
   "source": [
    "top3_country_sector_pivot.loc['USA'].plot(kind = \"bar\",stacked = \"True\",figsize=[8,6],logy  = False)\n",
    "params = {'legend.fontsize': 20,\n",
    "          'legend.handlelength': 2}\n",
    "plt.rcParams.update(params)\n",
    "plt.xlabel('Sectors in USA')\n",
    "plt.ylabel('Total Investments')\n",
    "plt.show()"
   ]
  },
  {
   "cell_type": "code",
   "execution_count": 300,
   "metadata": {},
   "outputs": [
    {
     "data": {
      "image/png": "[encoded data removed]",
      "text/plain": [
       "<Figure size 576x432 with 1 Axes>"
      ]
     },
     "metadata": {
      "needs_background": "light"
     },
     "output_type": "display_data"
    }
   ],
   "source": [
    "top3_country_sector_pivot.loc['GBR'].plot(kind = \"bar\",stacked = \"True\",figsize=[8,6],logy  = False)\n",
    "params = {'legend.fontsize': 20,\n",
    "          'legend.handlelength': 2}\n",
    "plt.rcParams.update(params)\n",
    "plt.xlabel('Sectors in Great Britan')\n",
    "plt.ylabel('Total Investments')\n",
    "plt.show()"
   ]
  },
  {
   "cell_type": "code",
   "execution_count": 301,
   "metadata": {},
   "outputs": [
    {
     "data": {
      "image/png": "[encoded data removed]",
      "text/plain": [
       "<Figure size 576x432 with 1 Axes>"
      ]
     },
     "metadata": {
      "needs_background": "light"
     },
     "output_type": "display_data"
    }
   ],
   "source": [
    "top3_country_sector_pivot.loc['IND'].plot(kind = \"bar\",stacked = \"True\",figsize=[8,6],logy  = False)\n",
    "params = {'legend.fontsize': 20,\n",
    "          'legend.handlelength': 2}\n",
    "plt.rcParams.update(params)\n",
    "plt.xlabel('Sectors in India')\n",
    "plt.ylabel('Total Investments')\n",
    "plt.show()"
   ]
  }
 ],
 "metadata": {
  "kernelspec": {
   "display_name": "Python 3",
   "language": "python",
   "name": "python3"
  },
  "language_info": {
   "codemirror_mode": {
    "name": "ipython",
    "version": 3
   },
   "file_extension": ".py",
   "mimetype": "text/x-python",
   "name": "python",
   "nbconvert_exporter": "python",
   "pygments_lexer": "ipython3",
   "version": "3.8.3"
  }
 },
 "nbformat": 4,
 "nbformat_minor": 4
}
